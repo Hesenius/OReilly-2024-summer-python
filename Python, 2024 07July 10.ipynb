{
 "cells": [
  {
   "cell_type": "markdown",
   "metadata": {},
   "source": [
    "# Agenda: Loops, lists, and tuples\n",
    "\n",
    "1. Q&A\n",
    "2. Loops\n",
    "    - `for` loops\n",
    "    - `while` loops\n",
    "    - Looping a number of times with `range`\n",
    "    - Getting the index in different ways\n",
    "    - Controlling our loop with `break` and `continue`\n",
    "3. Lists\n",
    "    - Creating lists\n",
    "    - What can we do with lists (same as strings)?\n",
    "    - What can we do with lists (different from strings)?\n",
    "    - Lists are mutable\n",
    "4. Strings to lists, and back\n",
    "    - Converting strings to lists (`str.split`)\n",
    "    - Converting lists to strings (`str.join`)\n",
    "5. Tuples\n",
    "    - What are tuples?\n",
    "    - Where do we use them?\n",
    "    - How are they similar to lists (and strings)?\n",
    "    - How are they different from lists (and strings)?\n",
    "6. Tuple unpacking"
   ]
  },
  {
   "cell_type": "markdown",
   "metadata": {},
   "source": [
    "# DRY -- don't repeat yourself\n",
    "\n",
    "Let's say that I want to print every character in a string, `s`.  How can I do that?"
   ]
  },
  {
   "cell_type": "code",
   "execution_count": 1,
   "metadata": {},
   "outputs": [
    {
     "name": "stdout",
     "output_type": "stream",
     "text": [
      "a\n",
      "b\n",
      "c\n",
      "d\n"
     ]
    }
   ],
   "source": [
    "s = 'abcd'\n",
    "\n",
    "print(s[0])\n",
    "print(s[1])\n",
    "print(s[2])\n",
    "print(s[3])"
   ]
  },
  {
   "cell_type": "markdown",
   "metadata": {},
   "source": [
    "The DRY rule tells us that if we look at what we've done, we have four lines that (more or less) repeat themselves. That's something we should try to avoid in our programs.\n",
    "\n",
    "Why?\n",
    "\n",
    "- If we write less code, it's easier to write\n",
    "- If we write less code, it's easier to read and debug\n",
    "- Less code is easier to wrap your head around\n",
    "- It'll probably run faster\n",
    "- It's more semantically powerful\n",
    "\n",
    "A loop allows us to repeat certain actions multiple times, with (if we want) variations in each of those iterations.\n",
    "\n",
    "Python has two different kinds of loops:\n",
    "\n",
    "- `for` -- these are much more common\n",
    "- `while`"
   ]
  },
  {
   "cell_type": "code",
   "execution_count": 2,
   "metadata": {},
   "outputs": [
    {
     "name": "stdout",
     "output_type": "stream",
     "text": [
      "a\n",
      "b\n",
      "c\n",
      "d\n"
     ]
    }
   ],
   "source": [
    "# if I want to print all of the characters in the string s,\n",
    "# here is a for loop that does it:\n",
    "\n",
    "s = 'abcd'\n",
    "\n",
    "for one_character in s:\n",
    "    print(one_character)"
   ]
  },
  {
   "cell_type": "markdown",
   "metadata": {},
   "source": [
    "# `for` loop syntax\n",
    "\n",
    "1. The first line of the loop is `for` .. `in` ..\n",
    "2. After the word `for`, we have a \"loop variable.\" That is the variable which will be assigned a new value with each iteration. Its name is *COMPLETELY* up to you; the loop behavior doesn't change based on the variable name.\n",
    "3. After the word `in` on the top line, we have an object, one which must be \"iterable.\" What is an iterable object? One that knows how to behave inside of a `for` loop. String, lists, tuples, dicts, and files are all iterable. Integers and floats are not.\n",
    "4. At the end of the line, we have a `:`.\n",
    "5. The following line is indented (because it's after a colon), and starts the \"loop body\".\n",
    "6. The loop body can contain any code we want, and can be as long (or as short) as we want.\n",
    "\n",
    "# What's really going on here?\n",
    "1. `for` turns to the object at the end of the line, and asks it: Are you iterable?\n",
    "    - If the answer is \"no,\" then the loop exits right there with an exception.\n",
    "2. Assuming that the object is iterable, the `for` loop then says to it: Give me your next value.\n",
    "    - If there are no more values, then the loop exits silently, no error.\n",
    "3. If there is another value, then it is assigned to the loop variable\n",
    "4. We execute the body of the loop.\n",
    "5. Go back to line 2.\n",
    "\n",
    "# A few things to notice\n",
    "1. The loop is not in control; the object on which we're looping is in control.\n",
    "2. In other languages, the `for` loop assigns an index, and uses it to retrieve values from the object.\n",
    "3. We don't care what kind of object is at the end of the first line; so long as it's iterable, we're fine with it."
   ]
  },
  {
   "cell_type": "code",
   "execution_count": 3,
   "metadata": {},
   "outputs": [
    {
     "name": "stdout",
     "output_type": "stream",
     "text": [
      "a\n",
      "b\n",
      "c\n",
      "d\n",
      "e\n"
     ]
    }
   ],
   "source": [
    "for one_item in 'abcde':\n",
    "    print(one_item)"
   ]
  },
  {
   "cell_type": "markdown",
   "metadata": {},
   "source": [
    "# Exercise: Vowels, digits, and others\n",
    "\n",
    "1. Define three variables, `vowels`, `digits`, and `others`, and assign them all the value 0.\n",
    "2. Ask the user to enter some text.\n",
    "3. Go through that text, one character at a time:\n",
    "    - If it's a digit, then add 1 to `digits`\n",
    "    - If it's a vowel (a,e,i,o.u), then add 1 to `vowels`\n",
    "    - Otherwise, add 1 to `others`\n",
    "4. Print the values of `vowels`, `digits`, and `others`.\n",
    "  \n",
    "Example:\n",
    "\n",
    "    Enter text: hello!! 123\n",
    "    vowels: 2\n",
    "    digits: 3\n",
    "    others: 6"
   ]
  },
  {
   "cell_type": "code",
   "execution_count": 6,
   "metadata": {},
   "outputs": [
    {
     "name": "stdin",
     "output_type": "stream",
     "text": [
      "Enter text:  hello!! 123\n"
     ]
    },
    {
     "name": "stdout",
     "output_type": "stream",
     "text": [
      "vowels: 2\n",
      "digits: 3\n",
      "others: 6\n"
     ]
    }
   ],
   "source": [
    "vowels = 0\n",
    "digits = 0\n",
    "others = 0\n",
    "\n",
    "text = input('Enter text: ').strip()   # get user input, remove whitespace on the ends, assign to text\n",
    "\n",
    "for one_character in text:\n",
    "    if one_character in 'aeiou':\n",
    "        # print(f'{one_character} is a vowel')\n",
    "        vowels += 1\n",
    "    elif one_character.isdigit():\n",
    "        digits += 1\n",
    "        # print(f'{one_character} is a digit')\n",
    "    else:\n",
    "        others += 1\n",
    "        # print(f'{one_character} is something else')\n",
    "\n",
    "print(f'vowels: {vowels}')\n",
    "print(f'digits: {digits}')\n",
    "print(f'others: {others}')"
   ]
  },
  {
   "cell_type": "code",
   "execution_count": 7,
   "metadata": {},
   "outputs": [
    {
     "name": "stdin",
     "output_type": "stream",
     "text": [
      "Enter some text:  hello!! 123\n"
     ]
    },
    {
     "name": "stdout",
     "output_type": "stream",
     "text": [
      "vowels:2, digits:3, others: 6\n"
     ]
    }
   ],
   "source": [
    "# IM\n",
    "\n",
    "vowels=0\n",
    "digits=0\n",
    "others=0\n",
    "\n",
    "phrase=input(\"Enter some text: \")\n",
    "\n",
    "vowel= 'aeiouAEIOU'\n",
    "digit= '0123456789'\n",
    "\n",
    "for one_char in phrase:\n",
    "    if one_char in vowel:\n",
    "        vowels += 1\n",
    "    elif one_char in digit:\n",
    "        digits +=1\n",
    "    else:\n",
    "        others += 1\n",
    "\n",
    "print( f'vowels:{vowels}, digits:{digits}, others: {others}')"
   ]
  },
  {
   "cell_type": "code",
   "execution_count": 8,
   "metadata": {},
   "outputs": [],
   "source": [
    "# What is strip?\n",
    "# strip is a method, not a function. Still a verb, but it's attached (with .) to the end\n",
    "# of a value. It must be a string, because strip is a string method. Its full name is str.strip.\n",
    "\n",
    "# we can run str.strip on any string we want. We'll get back a new string, identical to the original\n",
    "# one, but without any spaces (or other whitespace characters) at the start and end.\n",
    "\n",
    "# you can run str.strip on any string. Here, we're going on the fact that the input function always\n",
    "# returns a string. We run str.strip on that string (which is anonymous), getting back a new string\n",
    "# that is identical, but without leading/trailing whitespace. That string is assigned to the variable\n",
    "# \"text\" on the left of the assignment operator, =."
   ]
  },
  {
   "cell_type": "code",
   "execution_count": 10,
   "metadata": {},
   "outputs": [
    {
     "data": {
      "text/plain": [
       "'abcdefgh'"
      ]
     },
     "execution_count": 10,
     "metadata": {},
     "output_type": "execute_result"
    }
   ],
   "source": [
    "# to remove spaces in the middle is a bit tougher; you can remove them all with \n",
    "\n",
    "s = 'abcd  efgh'\n",
    "s.replace(' ', '')   # replaces the space character with the empty string"
   ]
  },
  {
   "cell_type": "code",
   "execution_count": 11,
   "metadata": {},
   "outputs": [
    {
     "data": {
      "text/plain": [
       "True"
      ]
     },
     "execution_count": 11,
     "metadata": {},
     "output_type": "execute_result"
    }
   ],
   "source": [
    "# str.isdigit is a string method (as you can see from its name), and it returns True\n",
    "# if all of the characters in the string are numbers 0-9. This is a simple way to check\n",
    "# if you can run \"int\" on a string and not get an error.\n",
    "\n",
    "s = '1234'\n",
    "s.isdigit()"
   ]
  },
  {
   "cell_type": "code",
   "execution_count": 13,
   "metadata": {},
   "outputs": [
    {
     "ename": "TypeError",
     "evalue": "'int' object is not iterable",
     "output_type": "error",
     "traceback": [
      "\u001b[0;31m---------------------------------------------------------------------------\u001b[0m",
      "\u001b[0;31mTypeError\u001b[0m                                 Traceback (most recent call last)",
      "Cell \u001b[0;32mIn[13], line 4\u001b[0m\n\u001b[1;32m      1\u001b[0m \u001b[38;5;66;03m# It's great to iterate over a string!\u001b[39;00m\n\u001b[1;32m      2\u001b[0m \u001b[38;5;66;03m# what about iterating a number of times?\u001b[39;00m\n\u001b[0;32m----> 4\u001b[0m \u001b[38;5;28;43;01mfor\u001b[39;49;00m\u001b[43m \u001b[49m\u001b[43mcounter\u001b[49m\u001b[43m \u001b[49m\u001b[38;5;129;43;01min\u001b[39;49;00m\u001b[43m \u001b[49m\u001b[38;5;241;43m5\u001b[39;49m\u001b[43m:\u001b[49m\n\u001b[1;32m      5\u001b[0m \u001b[43m    \u001b[49m\u001b[38;5;28;43mprint\u001b[39;49m\u001b[43m(\u001b[49m\u001b[38;5;124;43m'\u001b[39;49m\u001b[38;5;124;43mHooray!\u001b[39;49m\u001b[38;5;124;43m'\u001b[39;49m\u001b[43m)\u001b[49m\n",
      "\u001b[0;31mTypeError\u001b[0m: 'int' object is not iterable"
     ]
    }
   ],
   "source": [
    "# It's great to iterate over a string!\n",
    "# what about iterating a number of times?\n",
    "\n",
    "for counter in 5:\n",
    "    print('Hooray!')"
   ]
  },
  {
   "cell_type": "markdown",
   "metadata": {},
   "source": [
    "# Using `range` \n",
    "\n",
    "If we want to iterate a certain number of times, we need to use the `range` builtin function, which returns an object that we can use to iterate a number of times.\n",
    "\n"
   ]
  },
  {
   "cell_type": "code",
   "execution_count": 14,
   "metadata": {},
   "outputs": [
    {
     "name": "stdout",
     "output_type": "stream",
     "text": [
      "Hooray!\n",
      "Hooray!\n",
      "Hooray!\n",
      "Hooray!\n",
      "Hooray!\n"
     ]
    }
   ],
   "source": [
    "for counter in range(5):\n",
    "    print('Hooray!')"
   ]
  },
  {
   "cell_type": "code",
   "execution_count": 15,
   "metadata": {},
   "outputs": [
    {
     "name": "stdout",
     "output_type": "stream",
     "text": [
      "Hooray!\n",
      "Hooray!\n",
      "Hooray!\n",
      "Hooray!\n"
     ]
    }
   ],
   "source": [
    "n = 4\n",
    "\n",
    "for counter in range(n):\n",
    "    print('Hooray!')"
   ]
  },
  {
   "cell_type": "code",
   "execution_count": 16,
   "metadata": {},
   "outputs": [],
   "source": [
    "# range actually returns an integer with each iteration, starting at 0\n",
    "# and going up to the number provided - 1. \n",
    "\n",
    "# So range(5) will iterate 5 times, from 0 through 4."
   ]
  },
  {
   "cell_type": "code",
   "execution_count": 17,
   "metadata": {},
   "outputs": [
    {
     "name": "stdout",
     "output_type": "stream",
     "text": [
      "0 Hooray!\n",
      "1 Hooray!\n",
      "2 Hooray!\n",
      "3 Hooray!\n"
     ]
    }
   ],
   "source": [
    "for counter in range(n):\n",
    "    print(f'{counter} Hooray!')"
   ]
  },
  {
   "cell_type": "code",
   "execution_count": 18,
   "metadata": {},
   "outputs": [
    {
     "name": "stdin",
     "output_type": "stream",
     "text": [
      "Enter some text :  hello!! 123\n"
     ]
    },
    {
     "name": "stdout",
     "output_type": "stream",
     "text": [
      "h is something else\n",
      "e is a Vowel\n",
      "l is something else\n",
      "l is something else\n",
      "o is a Vowel\n",
      "! is something else\n",
      "! is something else\n",
      "  is something else\n",
      "1 is a Digit\n",
      "2 is a Digit\n",
      "3 is a Digit\n"
     ]
    }
   ],
   "source": [
    "# JD\n",
    "\n",
    "vowels = 0\n",
    "digits = 0\n",
    "others = 0\n",
    "\n",
    "char = input('Enter some text : ').strip()\n",
    "\n",
    "for c in char:\n",
    "    if c.isdigit():\n",
    "        print(f'{c} is a Digit')\n",
    "        \n",
    "    elif c in 'a,e,i,o,u':\n",
    "        print(f'{c} is a Vowel')\n",
    "    else:\n",
    "        print(f'{c} is something else')"
   ]
  },
  {
   "cell_type": "markdown",
   "metadata": {},
   "source": [
    "# Functions vs methods\n",
    "\n",
    "Both are \"verbs\" in the Python world. One (functions) are free-floating, and can be invoked on anyone. Methods are attachedk to another object, in name and functionality. Sou you cannot run a string method on an integer.\n",
    "\n",
    "Example:\n",
    "\n",
    "```python3\n",
    "x = len(s)  # this is a function\n",
    "```\n",
    "\n",
    "I can also say:\n",
    "\n",
    "```python3\n",
    "s = s.lower()   # str.lower is a method"
   ]
  },
  {
   "cell_type": "code",
   "execution_count": null,
   "metadata": {},
   "outputs": [],
   "source": []
  },
  {
   "cell_type": "markdown",
   "metadata": {},
   "source": [
    "# Exercise: Name triangles\n",
    "\n",
    "1. Ask the user to enter their name.\n",
    "2. Print a \"name triangle,\" which means that on the first line, we print the first character of the name. On the second line, we print the first 2. Then print the first 3, etc., until printed the full name.\n",
    "\n",
    "Example:\n",
    "\n",
    "    Enter your name: Reuven\n",
    "    R\n",
    "    Re\n",
    "    Reu\n",
    "    Reuv\n",
    "    Reuve\n",
    "    Reuven\n",
    "\n",
    "1. You'll probably want to use `range`\n",
    "2. Don't forget slices, i.e., `[start:stop]` in the string.\n",
    "3. You can use `len` to get the length of the string."
   ]
  },
  {
   "cell_type": "code",
   "execution_count": 20,
   "metadata": {},
   "outputs": [
    {
     "name": "stdout",
     "output_type": "stream",
     "text": [
      "R\n",
      "Re\n",
      "Reu\n",
      "Reuv\n",
      "Reuve\n",
      "Reuven\n"
     ]
    }
   ],
   "source": [
    "# if I didn't have a loop, what would I want?\n",
    "\n",
    "name = 'Reuven'\n",
    "\n",
    "print(name[:1])\n",
    "print(name[:2])\n",
    "print(name[:3])\n",
    "print(name[:4])\n",
    "print(name[:5])\n",
    "print(name[:6])    # the max index for our string is 5; its len is 6\n",
    "\n",
    "# yes, you can actually go beyond the bounds of the string with a slice"
   ]
  },
  {
   "cell_type": "code",
   "execution_count": 22,
   "metadata": {},
   "outputs": [
    {
     "name": "stdout",
     "output_type": "stream",
     "text": [
      "R\n",
      "Re\n",
      "Reu\n",
      "Reuv\n",
      "Reuve\n",
      "Reuven\n"
     ]
    }
   ],
   "source": [
    "name = 'Reuven'\n",
    "\n",
    "for max_index in range(len(name)):\n",
    "    print(name[:max_index+1])"
   ]
  },
  {
   "cell_type": "code",
   "execution_count": 24,
   "metadata": {},
   "outputs": [
    {
     "name": "stdin",
     "output_type": "stream",
     "text": [
      "Enter your Name:  Reuven\n"
     ]
    },
    {
     "name": "stdout",
     "output_type": "stream",
     "text": [
      "R\n",
      "Re\n",
      "Reu\n",
      "Reuv\n",
      "Reuve\n",
      "Reuven\n"
     ]
    }
   ],
   "source": [
    "# SY\n",
    "\n",
    "name = input('Enter your Name: ') \n",
    "for loop in range(len(name)):     \n",
    "    print(name[:loop+1])"
   ]
  },
  {
   "cell_type": "code",
   "execution_count": 25,
   "metadata": {},
   "outputs": [
    {
     "name": "stdin",
     "output_type": "stream",
     "text": [
      "What is your name?  Reuven\n"
     ]
    },
    {
     "name": "stdout",
     "output_type": "stream",
     "text": [
      "R\n",
      "Re\n",
      "Reu\n",
      "Reuv\n",
      "Reuve\n",
      "Reuven\n"
     ]
    }
   ],
   "source": [
    "# AM \n",
    "\n",
    "name = input('What is your name? ')\n",
    "for count in range(len(name)):\n",
    "        print(name[:count+1])"
   ]
  },
  {
   "cell_type": "code",
   "execution_count": 27,
   "metadata": {},
   "outputs": [
    {
     "name": "stdin",
     "output_type": "stream",
     "text": [
      "Enter your Name :  Reuven\n"
     ]
    },
    {
     "name": "stdout",
     "output_type": "stream",
     "text": [
      "R\n",
      "Re\n",
      "Reu\n",
      "Reuv\n",
      "Reuve\n",
      "Reuven\n"
     ]
    }
   ],
   "source": [
    "#JD \n",
    "\n",
    "name = input(\"Enter your Name : \").strip()\n",
    "\n",
    "for i in range(len(name)):\n",
    "    print(name[:i+1])"
   ]
  },
  {
   "cell_type": "code",
   "execution_count": 28,
   "metadata": {},
   "outputs": [
    {
     "name": "stdin",
     "output_type": "stream",
     "text": [
      "Enter your name:  Reuven\n"
     ]
    },
    {
     "name": "stdout",
     "output_type": "stream",
     "text": [
      "R\n",
      "Re\n",
      "Reu\n",
      "Reuv\n",
      "Reuve\n",
      "Reuven\n"
     ]
    }
   ],
   "source": [
    "# SK\n",
    "\n",
    "name = input(\"Enter your name: \")\n",
    "\n",
    "l = len(name)\n",
    "\n",
    "for t in range(l):\n",
    "    print(f'{name[:t+1]}')"
   ]
  },
  {
   "cell_type": "code",
   "execution_count": 33,
   "metadata": {},
   "outputs": [
    {
     "name": "stdin",
     "output_type": "stream",
     "text": [
      "Enter your text here :  Reuven\n"
     ]
    },
    {
     "name": "stdout",
     "output_type": "stream",
     "text": [
      "R\n",
      "Re\n",
      "Reu\n",
      "Reuv\n",
      "Reuve\n",
      "Reuven\n"
     ]
    }
   ],
   "source": [
    "# IG\n",
    "\n",
    "s=input('Enter your text here : ')\n",
    "v_g=0\n",
    "\n",
    "for n in range(len(s)):\n",
    "    v_g += 1\n",
    "    print(s[:v_g])    "
   ]
  },
  {
   "cell_type": "code",
   "execution_count": 32,
   "metadata": {},
   "outputs": [],
   "source": [
    "#there is a __len__ (\"dunder len\") method on strings, and it is connected to the len()\n",
    "# function. But any \"dunder\" method should *not* be invoked by us directly.\n",
    "\n"
   ]
  },
  {
   "cell_type": "markdown",
   "metadata": {},
   "source": [
    "# What is `__len__`?\n",
    "\n",
    "When we invoke `len(x)`, Python looks to see if there is a method `x.__len__`, and invokes it on our behalf. This is typical with many operators in Python; when we invoke `a + b`, Python invokes behind the scenes `a.__add__(b)`. There are lots of \"magic methods\" in Python that do this.\n",
    "\n",
    "In theory, you could run `__len__` on any object, and get its length. But that's frowned upon. You should really never be invoked magic methods unless you really know what you're doing -- and even then, it's a bad idea."
   ]
  },
  {
   "cell_type": "code",
   "execution_count": null,
   "metadata": {},
   "outputs": [],
   "source": []
  },
  {
   "cell_type": "code",
   "execution_count": null,
   "metadata": {},
   "outputs": [],
   "source": []
  },
  {
   "cell_type": "code",
   "execution_count": null,
   "metadata": {},
   "outputs": [],
   "source": []
  },
  {
   "cell_type": "markdown",
   "metadata": {},
   "source": [
    "# Next up:\n",
    "\n",
    "1. Indexes\n",
    "2. `while` loops\n"
   ]
  },
  {
   "cell_type": "markdown",
   "metadata": {},
   "source": [
    "In many other programming languages, the `for` loop has to keep track of an index. It starts that index at 0, and stops when it reaches a certain size/value, and does something in the loop body. The point of the index is to retrieve the right value from the string in each iteration.\n",
    "\n",
    "In Python, things work completely differently -- the object is in charge of its own index, and returns the next value with each time. \n",
    "\n",
    "Moreover, in other languages, we have an index because we need it to retrieve the value.\n",
    "\n",
    "In Python, we don't -- we just get the values directly! But there are times when we might want to print the index or use it for a calculation.\n",
    "\n"
   ]
  },
  {
   "cell_type": "code",
   "execution_count": 38,
   "metadata": {},
   "outputs": [
    {
     "name": "stdout",
     "output_type": "stream",
     "text": [
      "0: a\n",
      "1: b\n",
      "2: c\n",
      "3: d\n",
      "4: e\n"
     ]
    }
   ],
   "source": [
    "# option 1: Do it ourselves\n",
    "\n",
    "index = 0 \n",
    "s = 'abcde'\n",
    "\n",
    "for one_character in s:\n",
    "    print(f'{index}: {one_character}')\n",
    "    index += 1"
   ]
  },
  {
   "cell_type": "code",
   "execution_count": 40,
   "metadata": {},
   "outputs": [
    {
     "name": "stdout",
     "output_type": "stream",
     "text": [
      "0: a\n",
      "1: b\n",
      "2: c\n",
      "3: d\n"
     ]
    }
   ],
   "source": [
    "# option 2: use \"enumerate\"\n",
    "# this builtin function is surprisingly unknown: It takes an iterable value\n",
    "# as an argument. Enumerate is designed to be used inside of loops.\n",
    "\n",
    "for index, one_item in enumerate('abcd'):\n",
    "    print(f\"{index}: {one_item}\")"
   ]
  },
  {
   "cell_type": "code",
   "execution_count": null,
   "metadata": {},
   "outputs": [],
   "source": []
  }
 ],
 "metadata": {
  "kernelspec": {
   "display_name": "Python 3 (ipykernel)",
   "language": "python",
   "name": "python3"
  },
  "language_info": {
   "codemirror_mode": {
    "name": "ipython",
    "version": 3
   },
   "file_extension": ".py",
   "mimetype": "text/x-python",
   "name": "python",
   "nbconvert_exporter": "python",
   "pygments_lexer": "ipython3",
   "version": "3.12.2"
  },
  "widgets": {
   "application/vnd.jupyter.widget-state+json": {
    "state": {},
    "version_major": 2,
    "version_minor": 0
   }
  }
 },
 "nbformat": 4,
 "nbformat_minor": 4
}
