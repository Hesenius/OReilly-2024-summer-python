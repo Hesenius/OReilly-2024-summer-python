{
 "cells": [
  {
   "cell_type": "markdown",
   "metadata": {},
   "source": [
    "# Agenda: Loops, lists, and tuples\n",
    "\n",
    "1. Q&A\n",
    "2. Loops\n",
    "    - `for` loops\n",
    "    - `while` loops\n",
    "    - Looping a number of times with `range`\n",
    "    - Getting the index in different ways\n",
    "    - Controlling our loop with `break` and `continue`\n",
    "3. Lists\n",
    "    - Creating lists\n",
    "    - What can we do with lists (same as strings)?\n",
    "    - What can we do with lists (different from strings)?\n",
    "    - Lists are mutable\n",
    "4. Strings to lists, and back\n",
    "    - Converting strings to lists (`str.split`)\n",
    "    - Converting lists to strings (`str.join`)\n",
    "5. Tuples\n",
    "    - What are tuples?\n",
    "    - Where do we use them?\n",
    "    - How are they similar to lists (and strings)?\n",
    "    - How are they different from lists (and strings)?\n",
    "6. Tuple unpacking"
   ]
  },
  {
   "cell_type": "markdown",
   "metadata": {},
   "source": [
    "# DRY -- don't repeat yourself\n",
    "\n",
    "Let's say that I want to print every character in a string, `s`.  How can I do that?"
   ]
  },
  {
   "cell_type": "code",
   "execution_count": 1,
   "metadata": {},
   "outputs": [
    {
     "name": "stdout",
     "output_type": "stream",
     "text": [
      "a\n",
      "b\n",
      "c\n",
      "d\n"
     ]
    }
   ],
   "source": [
    "s = 'abcd'\n",
    "\n",
    "print(s[0])\n",
    "print(s[1])\n",
    "print(s[2])\n",
    "print(s[3])"
   ]
  },
  {
   "cell_type": "markdown",
   "metadata": {},
   "source": [
    "The DRY rule tells us that if we look at what we've done, we have four lines that (more or less) repeat themselves. That's something we should try to avoid in our programs.\n",
    "\n",
    "Why?\n",
    "\n",
    "- If we write less code, it's easier to write\n",
    "- If we write less code, it's easier to read and debug\n",
    "- Less code is easier to wrap your head around\n",
    "- It'll probably run faster\n",
    "- It's more semantically powerful\n",
    "\n",
    "A loop allows us to repeat certain actions multiple times, with (if we want) variations in each of those iterations.\n",
    "\n",
    "Python has two different kinds of loops:\n",
    "\n",
    "- `for` -- these are much more common\n",
    "- `while`"
   ]
  },
  {
   "cell_type": "code",
   "execution_count": 2,
   "metadata": {},
   "outputs": [
    {
     "name": "stdout",
     "output_type": "stream",
     "text": [
      "a\n",
      "b\n",
      "c\n",
      "d\n"
     ]
    }
   ],
   "source": [
    "# if I want to print all of the characters in the string s,\n",
    "# here is a for loop that does it:\n",
    "\n",
    "s = 'abcd'\n",
    "\n",
    "for one_character in s:\n",
    "    print(one_character)"
   ]
  },
  {
   "cell_type": "markdown",
   "metadata": {},
   "source": [
    "# `for` loop syntax\n",
    "\n",
    "1. The first line of the loop is `for` .. `in` ..\n",
    "2. After the word `for`, we have a \"loop variable.\" That is the variable which will be assigned a new value with each iteration. Its name is *COMPLETELY* up to you; the loop behavior doesn't change based on the variable name.\n",
    "3. After the word `in` on the top line, we have an object, one which must be \"iterable.\" What is an iterable object? One that knows how to behave inside of a `for` loop. String, lists, tuples, dicts, and files are all iterable. Integers and floats are not.\n",
    "4. At the end of the line, we have a `:`.\n",
    "5. The following line is indented (because it's after a colon), and starts the \"loop body\".\n",
    "6. The loop body can contain any code we want, and can be as long (or as short) as we want.\n",
    "\n",
    "# What's really going on here?\n",
    "1. `for` turns to the object at the end of the line, and asks it: Are you iterable?\n",
    "    - If the answer is \"no,\" then the loop exits right there with an exception.\n",
    "2. Assuming that the object is iterable, the `for` loop then says to it: Give me your next value.\n",
    "    - If there are no more values, then the loop exits silently, no error.\n",
    "3. If there is another value, then it is assigned to the loop variable\n",
    "4. We execute the body of the loop.\n",
    "5. Go back to line 2."
   ]
  },
  {
   "cell_type": "code",
   "execution_count": null,
   "metadata": {},
   "outputs": [],
   "source": []
  }
 ],
 "metadata": {
  "kernelspec": {
   "display_name": "Python 3 (ipykernel)",
   "language": "python",
   "name": "python3"
  },
  "language_info": {
   "codemirror_mode": {
    "name": "ipython",
    "version": 3
   },
   "file_extension": ".py",
   "mimetype": "text/x-python",
   "name": "python",
   "nbconvert_exporter": "python",
   "pygments_lexer": "ipython3",
   "version": "3.12.2"
  },
  "widgets": {
   "application/vnd.jupyter.widget-state+json": {
    "state": {},
    "version_major": 2,
    "version_minor": 0
   }
  }
 },
 "nbformat": 4,
 "nbformat_minor": 4
}
