{
 "cells": [
  {
   "cell_type": "markdown",
   "metadata": {},
   "source": [
    "# Agenda: Loops, lists, and tuples\n",
    "\n",
    "1. Q&A\n",
    "2. Loops\n",
    "    - `for` loops\n",
    "    - `while` loops\n",
    "    - Looping a number of times with `range`\n",
    "    - Getting the index in different ways\n",
    "    - Controlling our loop with `break` and `continue`\n",
    "3. Lists\n",
    "    - Creating lists\n",
    "    - What can we do with lists (same as strings)?\n",
    "    - What can we do with lists (different from strings)?\n",
    "    - Lists are mutable\n",
    "4. Strings to lists, and back\n",
    "    - Converting strings to lists (`str.split`)\n",
    "    - Converting lists to strings (`str.join`)\n",
    "5. Tuples\n",
    "    - What are tuples?\n",
    "    - Where do we use them?\n",
    "    - How are they similar to lists (and strings)?\n",
    "    - How are they different from lists (and strings)?\n",
    "6. Tuple unpacking"
   ]
  },
  {
   "cell_type": "markdown",
   "metadata": {},
   "source": [
    "# DRY -- don't repeat yourself\n",
    "\n",
    "Let's say that I want to print every character in a string, `s`.  How can I do that?"
   ]
  },
  {
   "cell_type": "code",
   "execution_count": 1,
   "metadata": {},
   "outputs": [
    {
     "name": "stdout",
     "output_type": "stream",
     "text": [
      "a\n",
      "b\n",
      "c\n",
      "d\n"
     ]
    }
   ],
   "source": [
    "s = 'abcd'\n",
    "\n",
    "print(s[0])\n",
    "print(s[1])\n",
    "print(s[2])\n",
    "print(s[3])"
   ]
  },
  {
   "cell_type": "markdown",
   "metadata": {},
   "source": [
    "The DRY rule tells us that if we look at what we've done, we have four lines that (more or less) repeat themselves. That's something we should try to avoid in our programs.\n",
    "\n",
    "Why?\n",
    "\n",
    "- If we write less code, it's easier to write\n",
    "- If we write less code, it's easier to read and debug\n",
    "- Less code is easier to wrap your head around\n",
    "- It'll probably run faster\n",
    "- It's more semantically powerful\n",
    "\n",
    "A loop allows us to repeat certain actions multiple times, with (if we want) variations in each of those iterations.\n",
    "\n",
    "Python has two different kinds of loops:\n",
    "\n",
    "- `for` -- these are much more common\n",
    "- `while`"
   ]
  },
  {
   "cell_type": "code",
   "execution_count": 2,
   "metadata": {},
   "outputs": [
    {
     "name": "stdout",
     "output_type": "stream",
     "text": [
      "a\n",
      "b\n",
      "c\n",
      "d\n"
     ]
    }
   ],
   "source": [
    "# if I want to print all of the characters in the string s,\n",
    "# here is a for loop that does it:\n",
    "\n",
    "s = 'abcd'\n",
    "\n",
    "for one_character in s:\n",
    "    print(one_character)"
   ]
  },
  {
   "cell_type": "markdown",
   "metadata": {},
   "source": [
    "# `for` loop syntax\n",
    "\n",
    "1. The first line of the loop is `for` .. `in` ..\n",
    "2. After the word `for`, we have a \"loop variable.\" That is the variable which will be assigned a new value with each iteration. Its name is *COMPLETELY* up to you; the loop behavior doesn't change based on the variable name."
   ]
  }
 ],
 "metadata": {
  "kernelspec": {
   "display_name": "Python 3 (ipykernel)",
   "language": "python",
   "name": "python3"
  },
  "language_info": {
   "codemirror_mode": {
    "name": "ipython",
    "version": 3
   },
   "file_extension": ".py",
   "mimetype": "text/x-python",
   "name": "python",
   "nbconvert_exporter": "python",
   "pygments_lexer": "ipython3",
   "version": "3.12.2"
  },
  "widgets": {
   "application/vnd.jupyter.widget-state+json": {
    "state": {},
    "version_major": 2,
    "version_minor": 0
   }
  }
 },
 "nbformat": 4,
 "nbformat_minor": 4
}
