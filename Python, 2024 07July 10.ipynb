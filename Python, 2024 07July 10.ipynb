{
 "cells": [
  {
   "cell_type": "markdown",
   "metadata": {},
   "source": [
    "# Agenda: Loops, lists, and tuples\n",
    "\n",
    "1. Q&A\n",
    "2. Loops\n",
    "    - `for` loops\n",
    "    - `while` loops\n",
    "    - Looping a number of times with `range`\n",
    "    - Getting the index in different ways\n",
    "    - Controlling our loop with `break` and `continue`\n",
    "3. Lists\n",
    "    - Creating lists\n",
    "    - What can we do with lists (same as strings)?\n",
    "    - What can we do with lists (different from strings)?\n",
    "    - Lists are mutable\n",
    "4. Strings to lists, and back\n",
    "    - Converting strings to lists (`str.split`)\n",
    "    - Converting lists to strings (`str.join`)\n",
    "5. Tuples\n",
    "    - What are tuples?\n",
    "    - Where do we use them?\n",
    "    - How are they similar to lists (and strings)?\n",
    "    - How are they different from lists (and strings)?\n",
    "6. Tuple unpacking"
   ]
  },
  {
   "cell_type": "markdown",
   "metadata": {},
   "source": [
    "# DRY -- don't repeat yourself\n",
    "\n",
    "Let's say that I want to print every character in a string, `s`.  How can I do that?"
   ]
  },
  {
   "cell_type": "code",
   "execution_count": 1,
   "metadata": {},
   "outputs": [
    {
     "name": "stdout",
     "output_type": "stream",
     "text": [
      "a\n",
      "b\n",
      "c\n",
      "d\n"
     ]
    }
   ],
   "source": [
    "s = 'abcd'\n",
    "\n",
    "print(s[0])\n",
    "print(s[1])\n",
    "print(s[2])\n",
    "print(s[3])"
   ]
  },
  {
   "cell_type": "markdown",
   "metadata": {},
   "source": [
    "The DRY rule tells us that if we look at what we've done, we have four lines that (more or less) repeat themselves. That's something we should try to avoid in our programs.\n",
    "\n",
    "Why?\n",
    "\n",
    "- If we write less code, it's easier to write\n",
    "- If we write less code, it's easier to read and debug\n",
    "- Less code is easier to wrap your head around\n",
    "- It'll probably run faster\n",
    "- It's more semantically powerful\n",
    "\n",
    "A loop allows us to repeat certain actions multiple times, with (if we want) variations in each of those iterations.\n",
    "\n",
    "Python has two different kinds of loops:\n",
    "\n",
    "- `for` -- these are much more common\n",
    "- `while`"
   ]
  },
  {
   "cell_type": "code",
   "execution_count": 2,
   "metadata": {},
   "outputs": [
    {
     "name": "stdout",
     "output_type": "stream",
     "text": [
      "a\n",
      "b\n",
      "c\n",
      "d\n"
     ]
    }
   ],
   "source": [
    "# if I want to print all of the characters in the string s,\n",
    "# here is a for loop that does it:\n",
    "\n",
    "s = 'abcd'\n",
    "\n",
    "for one_character in s:\n",
    "    print(one_character)"
   ]
  },
  {
   "cell_type": "markdown",
   "metadata": {},
   "source": [
    "# `for` loop syntax\n",
    "\n",
    "1. The first line of the loop is `for` .. `in` ..\n",
    "2. After the word `for`, we have a \"loop variable.\" That is the variable which will be assigned a new value with each iteration. Its name is *COMPLETELY* up to you; the loop behavior doesn't change based on the variable name.\n",
    "3. After the word `in` on the top line, we have an object, one which must be \"iterable.\" What is an iterable object? One that knows how to behave inside of a `for` loop. String, lists, tuples, dicts, and files are all iterable. Integers and floats are not.\n",
    "4. At the end of the line, we have a `:`.\n",
    "5. The following line is indented (because it's after a colon), and starts the \"loop body\".\n",
    "6. The loop body can contain any code we want, and can be as long (or as short) as we want.\n",
    "\n",
    "# What's really going on here?\n",
    "1. `for` turns to the object at the end of the line, and asks it: Are you iterable?\n",
    "    - If the answer is \"no,\" then the loop exits right there with an exception.\n",
    "2. Assuming that the object is iterable, the `for` loop then says to it: Give me your next value.\n",
    "    - If there are no more values, then the loop exits silently, no error.\n",
    "3. If there is another value, then it is assigned to the loop variable\n",
    "4. We execute the body of the loop.\n",
    "5. Go back to line 2.\n",
    "\n",
    "# A few things to notice\n",
    "1. The loop is not in control; the object on which we're looping is in control.\n",
    "2. In other languages, the `for` loop assigns an index, and uses it to retrieve values from the object.\n",
    "3. We don't care what kind of object is at the end of the first line; so long as it's iterable, we're fine with it."
   ]
  },
  {
   "cell_type": "code",
   "execution_count": 3,
   "metadata": {},
   "outputs": [
    {
     "name": "stdout",
     "output_type": "stream",
     "text": [
      "a\n",
      "b\n",
      "c\n",
      "d\n",
      "e\n"
     ]
    }
   ],
   "source": [
    "for one_item in 'abcde':\n",
    "    print(one_item)"
   ]
  },
  {
   "cell_type": "markdown",
   "metadata": {},
   "source": [
    "# Exercise: Vowels, digits, and others\n",
    "\n",
    "1. Define three variables, `vowels`, `digits`, and `others`, and assign them all the value 0.\n",
    "2. Ask the user to enter some text.\n",
    "3. Go through that text, one character at a time:\n",
    "    - If it's a digit, then add 1 to `digits`\n",
    "    - If it's a vowel (a,e,i,o.u), then add 1 to `vowels`\n",
    "    - Otherwise, add 1 to `others`\n",
    "4. Print the values of `vowels`, `digits`, and `others`.\n",
    "  \n",
    "Example:\n",
    "\n",
    "    Enter text: hello!! 123\n",
    "    vowels: 2\n",
    "    digits: 3\n",
    "    others: 6"
   ]
  },
  {
   "cell_type": "code",
   "execution_count": 6,
   "metadata": {},
   "outputs": [
    {
     "name": "stdin",
     "output_type": "stream",
     "text": [
      "Enter text:  hello!! 123\n"
     ]
    },
    {
     "name": "stdout",
     "output_type": "stream",
     "text": [
      "vowels: 2\n",
      "digits: 3\n",
      "others: 6\n"
     ]
    }
   ],
   "source": [
    "vowels = 0\n",
    "digits = 0\n",
    "others = 0\n",
    "\n",
    "text = input('Enter text: ').strip()   # get user input, remove whitespace on the ends, assign to text\n",
    "\n",
    "for one_character in text:\n",
    "    if one_character in 'aeiou':\n",
    "        # print(f'{one_character} is a vowel')\n",
    "        vowels += 1\n",
    "    elif one_character.isdigit():\n",
    "        digits += 1\n",
    "        # print(f'{one_character} is a digit')\n",
    "    else:\n",
    "        others += 1\n",
    "        # print(f'{one_character} is something else')\n",
    "\n",
    "print(f'vowels: {vowels}')\n",
    "print(f'digits: {digits}')\n",
    "print(f'others: {others}')"
   ]
  },
  {
   "cell_type": "code",
   "execution_count": 7,
   "metadata": {},
   "outputs": [
    {
     "name": "stdin",
     "output_type": "stream",
     "text": [
      "Enter some text:  hello!! 123\n"
     ]
    },
    {
     "name": "stdout",
     "output_type": "stream",
     "text": [
      "vowels:2, digits:3, others: 6\n"
     ]
    }
   ],
   "source": [
    "# IM\n",
    "\n",
    "vowels=0\n",
    "digits=0\n",
    "others=0\n",
    "\n",
    "phrase=input(\"Enter some text: \")\n",
    "\n",
    "vowel= 'aeiouAEIOU'\n",
    "digit= '0123456789'\n",
    "\n",
    "for one_char in phrase:\n",
    "    if one_char in vowel:\n",
    "        vowels += 1\n",
    "    elif one_char in digit:\n",
    "        digits +=1\n",
    "    else:\n",
    "        others += 1\n",
    "\n",
    "print( f'vowels:{vowels}, digits:{digits}, others: {others}')"
   ]
  },
  {
   "cell_type": "code",
   "execution_count": 8,
   "metadata": {},
   "outputs": [],
   "source": [
    "# What is strip?\n",
    "# strip is a method, not a function. Still a verb, but it's attached (with .) to the end\n",
    "# of a value. It must be a string, because strip is a string method. Its full name is str.strip.\n",
    "\n",
    "# we can run str.strip on any string we want. We'll get back a new string, identical to the original\n",
    "# one, but without any spaces (or other whitespace characters) at the start and end.\n",
    "\n",
    "# you can run str.strip on any string. Here, we're going on the fact that the input function always\n",
    "# returns a string. We run str.strip on that string (which is anonymous), getting back a new string\n",
    "# that is identical, but without leading/trailing whitespace. That string is assigned to the variable\n",
    "# \"text\" on the left of the assignment operator, =."
   ]
  },
  {
   "cell_type": "code",
   "execution_count": 10,
   "metadata": {},
   "outputs": [
    {
     "data": {
      "text/plain": [
       "'abcdefgh'"
      ]
     },
     "execution_count": 10,
     "metadata": {},
     "output_type": "execute_result"
    }
   ],
   "source": [
    "# to remove spaces in the middle is a bit tougher; you can remove them all with \n",
    "\n",
    "s = 'abcd  efgh'\n",
    "s.replace(' ', '')   # replaces the space character with the empty string"
   ]
  },
  {
   "cell_type": "code",
   "execution_count": 11,
   "metadata": {},
   "outputs": [
    {
     "data": {
      "text/plain": [
       "True"
      ]
     },
     "execution_count": 11,
     "metadata": {},
     "output_type": "execute_result"
    }
   ],
   "source": [
    "# str.isdigit is a string method (as you can see from its name), and it returns True\n",
    "# if all of the characters in the string are numbers 0-9. This is a simple way to check\n",
    "# if you can run \"int\" on a string and not get an error.\n",
    "\n",
    "s = '1234'\n",
    "s.isdigit()"
   ]
  },
  {
   "cell_type": "code",
   "execution_count": null,
   "metadata": {},
   "outputs": [],
   "source": []
  }
 ],
 "metadata": {
  "kernelspec": {
   "display_name": "Python 3 (ipykernel)",
   "language": "python",
   "name": "python3"
  },
  "language_info": {
   "codemirror_mode": {
    "name": "ipython",
    "version": 3
   },
   "file_extension": ".py",
   "mimetype": "text/x-python",
   "name": "python",
   "nbconvert_exporter": "python",
   "pygments_lexer": "ipython3",
   "version": "3.12.2"
  },
  "widgets": {
   "application/vnd.jupyter.widget-state+json": {
    "state": {},
    "version_major": 2,
    "version_minor": 0
   }
  }
 },
 "nbformat": 4,
 "nbformat_minor": 4
}
