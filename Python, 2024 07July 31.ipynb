{
 "cells": [
  {
   "cell_type": "markdown",
   "id": "296066d9-97ee-43c6-8e4a-1c437cadbde8",
   "metadata": {},
   "source": [
    "# Agenda, week 4: Functions!\n",
    "\n",
    "1. What are functions?\n",
    "2. Writing simple functions\n",
    "3. Arguments and parameters\n",
    "4. Return values from a function\n",
    "5. Default argument values\n",
    "6. Local vs. global variables"
   ]
  },
  {
   "cell_type": "markdown",
   "id": "111b41a8-f7b9-4ca6-8473-5de9a3d520d5",
   "metadata": {},
   "source": [
    "# What are functions?\n",
    "\n",
    "Functions aren't, strictly speaking, necessary when we program. A function is a verb that define for Python's use.\n",
    "\n",
    "Python comes with a bunch of existing functions:\n",
    "\n",
    "- `print`\n",
    "- `len`\n",
    "- `sum`\n",
    "- `input`\n",
    "\n",
    "(For our purposes, methods are also functions.)\n",
    "\n",
    "We typically want to write functions. The biggest reason is that it gives us a higher level of abstraction.  Meaning: We can use the name to communicate with other people, and not get bogged down in all of the details.\n",
    "\n",
    "When we define a function, we are defining a new verb for Python, but we're also defining a word that we can use to ignore the details (unless we want to deal with them). We can then build on top of our own infrastructure, taking advantage of the abstractions that we ourselves created.\n",
    "\n",
    "In programming, people are used to talking about \"data\" and \"programs.\" The idea is that the data is all of the nouns, the things that we want to work with, and the programs are the verbs, doing the actual actions.\n",
    "\n",
    "In Python, functions are nouns, too.  A variable can refer to a string, list, dict, or even a function. We have to be careful to know what kind of value a variable refers to."
   ]
  },
  {
   "cell_type": "markdown",
   "id": "18f719a9-9c9f-4a4d-9b6d-45feefbfbbc9",
   "metadata": {},
   "source": [
    "# Functions vs. methods\n",
    "\n",
    "A method is a function that's attached to an object, usually with the `.` character.\n",
    "\n",
    "This is a function:\n",
    "\n",
    "    s = 'abcd'\n",
    "    len(s)\n",
    "\n",
    "This is a method:\n",
    "\n",
    "    s.upper()  \n",
    "\n",
    "The method needs to be called on an object (in this case, of type `str`). Behind the scenes, a function is really running. A method's big difference is that because it's attached to an object, that object can be passed to the method which can use its data. \n",
    "\n",
    "Methods come from the world of object-oriented programming."
   ]
  },
  {
   "cell_type": "markdown",
   "id": "61d5baae-fe7d-4aff-813c-f1da8dbe9812",
   "metadata": {},
   "source": [
    "# How do we define a function?\n",
    "\n",
    "We use the `def` keyword. When we use `def`, we're going to:\n",
    "\n",
    "- `def`\n",
    "- the name of the function we want to define -- this name is just like a variable in the rules it has to follow\n",
    "- `()`, currently empty\n",
    "- `:`, marking the end of the line\n",
    "- indented block, the function body.\n",
    "\n",
    "In the function body we can put *any code we want* -- loops, `if`/`else`, `input`, working with files, defining variables.\n",
    "\n",
    "When we're done defining the function, we can then \"call\" it or execute it, by naming the function and putting `()` after its name."
   ]
  },
  {
   "cell_type": "markdown",
   "id": "72df8f27-e5dd-41da-a65d-9af2cfde8416",
   "metadata": {},
   "source": []
  }
 ],
 "metadata": {
  "kernelspec": {
   "display_name": "Python 3 (ipykernel)",
   "language": "python",
   "name": "python3"
  },
  "language_info": {
   "codemirror_mode": {
    "name": "ipython",
    "version": 3
   },
   "file_extension": ".py",
   "mimetype": "text/x-python",
   "name": "python",
   "nbconvert_exporter": "python",
   "pygments_lexer": "ipython3",
   "version": "3.12.1"
  }
 },
 "nbformat": 4,
 "nbformat_minor": 5
}
