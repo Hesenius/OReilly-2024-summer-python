{
 "cells": [
  {
   "cell_type": "markdown",
   "id": "296066d9-97ee-43c6-8e4a-1c437cadbde8",
   "metadata": {},
   "source": [
    "# Agenda, week 4: Functions!\n",
    "\n",
    "1. What are functions?\n",
    "2. Writing simple functions\n",
    "3. Arguments and parameters\n",
    "4. Return values from a function\n",
    "5. Default argument values\n",
    "6. Local vs. global variables"
   ]
  },
  {
   "cell_type": "markdown",
   "id": "111b41a8-f7b9-4ca6-8473-5de9a3d520d5",
   "metadata": {},
   "source": [
    "# What are functions?\n",
    "\n",
    "Functions aren't, strictly speaking, necessary when we program. A function is a verb that define for Python's use.\n",
    "\n",
    "Python comes with a bunch of existing functions:\n",
    "\n",
    "- `print`\n",
    "- `len`\n",
    "- `sum`\n",
    "- `input`\n",
    "\n",
    "(For our purposes, methods are also functions.)\n",
    "\n",
    "We typically want to write functions. The biggest reason is that it gives us a higher level of abstraction.  Meaning: We can use the name to communicate with other people, and not get bogged down in all of the details.\n",
    "\n",
    "When we define a function, we are defining a new verb for Python, but we're also defining a word that we can use to ignore the details (unless we want to deal with them). We can then build on top of our own infrastructure, taking advantage of the abstractions that we ourselves created.\n",
    "\n",
    "In programming, people are used to talking about \"data\" and \"programs.\" The idea is that the data is all of the nouns, the things that we want to work with, and the programs are the verbs, doing the actual actions.\n",
    "\n",
    "In Python, functions are nouns, too.  A variable can refer to a string, list, dict, or even a function. We have to be careful to know what kind of value a variable refers to."
   ]
  },
  {
   "cell_type": "markdown",
   "id": "18f719a9-9c9f-4a4d-9b6d-45feefbfbbc9",
   "metadata": {},
   "source": [
    "# Functions vs. methods\n",
    "\n",
    "A method is a function that's attached to an object, usually with the `.` character.\n",
    "\n",
    "This is a function:\n",
    "\n",
    "    s = 'abcd'\n",
    "    len(s)\n",
    "\n",
    "This is a method:\n",
    "\n",
    "    s.upper()  \n",
    "\n",
    "The method needs to be called on an object (in this case, of type `str`). Behind the scenes, a function is really running. A method's big difference is that because it's attached to an object, that object can be passed to the method which can use its data. \n",
    "\n",
    "Methods come from the world of object-oriented programming."
   ]
  },
  {
   "cell_type": "markdown",
   "id": "965243c0-0dc0-4336-9a63-1ded33061299",
   "metadata": {},
   "source": [
    "# Functions vs. procedures\n",
    "\n",
    "Technically speaking:\n",
    "\n",
    "- A function returns a value to its caller. For example, `len` returns the length of the item we pass it. We can take that returned value and assign it to a variable, or use it in a function call.\n",
    "- A procedure does not return a value. We call it to execute something, not because we want a value back.\n",
    "\n",
    "Some languages distinguish between the two. In Python, we don't have procedures. Every single function (or method) returns a value of some sort. That value, if we don't specify it, is the special value `None` that Python provides."
   ]
  },
  {
   "cell_type": "markdown",
   "id": "61d5baae-fe7d-4aff-813c-f1da8dbe9812",
   "metadata": {},
   "source": [
    "# How do we define a function?\n",
    "\n",
    "We use the `def` keyword. When we use `def`, we're going to:\n",
    "\n",
    "- `def`\n",
    "- the name of the function we want to define -- this name is just like a variable in the rules it has to follow\n",
    "- `()`, currently empty\n",
    "- `:`, marking the end of the line\n",
    "- indented block, the function body.\n",
    "\n",
    "In the function body we can put *any code we want* -- loops, `if`/`else`, `input`, working with files, defining variables.\n",
    "\n",
    "When we're done defining the function, we can then \"call\" it or execute it, by naming the function and putting `()` after its name."
   ]
  },
  {
   "cell_type": "code",
   "execution_count": 1,
   "id": "26b5621e-8046-4db9-8df5-a64be16962e7",
   "metadata": {},
   "outputs": [],
   "source": [
    "def hello():           # function is called \"hello\"\n",
    "    print('Hello!')    # function body prints the text \"Hello!\""
   ]
  },
  {
   "cell_type": "code",
   "execution_count": 2,
   "id": "cff5e170-59c5-4356-acb8-d49c8d738e6f",
   "metadata": {},
   "outputs": [
    {
     "name": "stdout",
     "output_type": "stream",
     "text": [
      "Hello!\n"
     ]
    }
   ],
   "source": [
    "# if we ask Python to run our function...\n",
    "\n",
    "hello()"
   ]
  },
  {
   "cell_type": "code",
   "execution_count": 3,
   "id": "1094df2f-b7da-491c-b926-f07d4916d4c9",
   "metadata": {},
   "outputs": [
    {
     "data": {
      "text/plain": [
       "function"
      ]
     },
     "execution_count": 3,
     "metadata": {},
     "output_type": "execute_result"
    }
   ],
   "source": [
    "# if we ask Python what the variable hello contains\n",
    "\n",
    "type(hello)   # here, I'm not invoking the function; I'm passing its name to the \"type\" function"
   ]
  },
  {
   "cell_type": "code",
   "execution_count": 4,
   "id": "c060a1f4-0d82-43f4-add8-9207ca94128c",
   "metadata": {},
   "outputs": [
    {
     "data": {
      "text/plain": [
       "<function __main__.hello()>"
      ]
     },
     "execution_count": 4,
     "metadata": {},
     "output_type": "execute_result"
    }
   ],
   "source": [
    "hello"
   ]
  },
  {
   "cell_type": "code",
   "execution_count": 5,
   "id": "73610747-5be2-4efc-b23f-0a85befe425c",
   "metadata": {},
   "outputs": [
    {
     "name": "stdout",
     "output_type": "stream",
     "text": [
      "Hello!\n"
     ]
    }
   ],
   "source": [
    "# you must use parentheses to execute the function!\n",
    "\n",
    "hello()"
   ]
  },
  {
   "cell_type": "markdown",
   "id": "01582d28-a127-4e40-81ac-94fa6820381e",
   "metadata": {},
   "source": [
    "# What happens when we define our function?\n",
    "\n",
    "1. A new \"function object\" is created\n",
    "2. That function object is assigned to the name we gave after `def`\n",
    "\n",
    "The function object is actually *compiled*, which most people don't realize happens in Python. The end result of this compilation is \"byte codes,\" which are similar to Java and .NET in how they work."
   ]
  },
  {
   "cell_type": "markdown",
   "id": "bd5f1bce-30b1-4519-b9e4-cff4ce237a8e",
   "metadata": {},
   "source": [
    "# Exercise: Calculator function\n",
    "\n",
    "1. Write a function, `calc`, that when run, asks the user to enter a number, an operator (`+` or `-`), and another number. These should be entered separately, with three calls to `input`.\n",
    "2. If the operator is `+` or `-`, then perform the appropriate calculation and store in `result`. Otherwise, `result` should be some sort of error message.\n",
    "3. Print, on the screen, the user's input numbers and operator, and also the result of the operation.\n",
    "\n",
    "```\n",
    "calc()\n",
    "\n",
    "Enter first number: 10\n",
    "Enter operator: +\n",
    "Enter second number: 8\n",
    "10 + 8 = 18\n",
    "\n",
    "Enter first number: 15\n",
    "Enter operator: *\n",
    "Enter second number: 3\n",
    "15 * 3 = (illegal operator)\n",
    "```"
   ]
  },
  {
   "cell_type": "code",
   "execution_count": 6,
   "id": "8ef3be09-a201-4887-bb6c-28a98662dab2",
   "metadata": {},
   "outputs": [],
   "source": [
    "def calc():\n",
    "    first = input('Enter first number: ').strip()\n",
    "    op = input('Enter operator: ').strip()\n",
    "    second = input('Enter second number: ').strip()\n",
    "\n",
    "    first, second = int(first), int(second)\n",
    "\n",
    "    if op == '+':\n",
    "        result = first + second\n",
    "    elif op == '-':\n",
    "        result = first - second\n",
    "    else:\n",
    "        result = '(Not supported)'\n",
    "\n",
    "    print(f'{first} {op} {second} = {result}')"
   ]
  },
  {
   "cell_type": "code",
   "execution_count": 7,
   "id": "9500824f-ab14-451d-93d3-09f9e0789712",
   "metadata": {},
   "outputs": [
    {
     "name": "stdin",
     "output_type": "stream",
     "text": [
      "Enter first number:  10\n",
      "Enter operator:  +\n",
      "Enter second number:  3\n"
     ]
    },
    {
     "name": "stdout",
     "output_type": "stream",
     "text": [
      "10 + 3 = 13\n"
     ]
    }
   ],
   "source": [
    "calc()"
   ]
  },
  {
   "cell_type": "code",
   "execution_count": 8,
   "id": "b3a0e329-24cb-41bf-8b9e-4ba188853482",
   "metadata": {},
   "outputs": [
    {
     "name": "stdin",
     "output_type": "stream",
     "text": [
      "Enter first number:  8\n",
      "Enter operator:  -\n",
      "Enter second number:  5\n"
     ]
    },
    {
     "name": "stdout",
     "output_type": "stream",
     "text": [
      "8 - 5 = 3\n"
     ]
    }
   ],
   "source": [
    "calc()"
   ]
  },
  {
   "cell_type": "code",
   "execution_count": 9,
   "id": "2731d3de-123f-43e4-8db1-d925a18dc629",
   "metadata": {},
   "outputs": [],
   "source": [
    "# CE\n",
    "\n",
    "def CollectAndSum(a, b):\n",
    "    return (a + b)\n",
    "\n",
    "def calc():\n",
    "    a = int(input('Enter 1st number: '))\n",
    "    op=\"\"\n",
    "    while op ==\"\":\n",
    "        op=input('Enter in + or -')\n",
    "        if op != \"+\" and op != \"-\":\n",
    "            op=\"\"\n",
    "    \n",
    "    b = int(input('Enter 2nd number: '))\n",
    "    \n",
    "    if op == \"+\":\n",
    "        print(f'Sum of {a} and {b} is {sum(a, b)}')\n",
    "    else:\n",
    "        print(f'Difference of {a} and {b} is {a-b}')\n"
   ]
  },
  {
   "cell_type": "code",
   "execution_count": 10,
   "id": "3c68f8d2-d89e-45fb-a0fc-7f2790db12f3",
   "metadata": {},
   "outputs": [],
   "source": [
    "# SK \n",
    "\n",
    "def fcalc():\n",
    "    a = input('Enter first number: ').strip()\n",
    "    b = input('Enter operator: ').strip()\n",
    "    c = input('Enter second number: ').strip()\n",
    "\n",
    "    a = int(a)\n",
    "    c = int(c)\n",
    "\n",
    "    if b == '+':\n",
    "        result = a + c\n",
    "        print(f'{a} {b} {c} = {result}')\n",
    "    elif b == '-':\n",
    "        result = a - c\n",
    "        print(f'{a} {b} {c} = {result}')\n",
    "    else:\n",
    "        print(f'{a} {b} {c} = illegal operator')"
   ]
  },
  {
   "cell_type": "markdown",
   "id": "9924d787-5376-4336-b2c5-2c4933754839",
   "metadata": {},
   "source": [
    "# Redefining a function\n",
    "\n",
    "When we use `def`, we're assigning to a variable. Just as using `=` on the same variable twice in a row means that the first assignment is lost, in the same way, defining the same function (name) twice in a row results in the first definition getting lost.\n",
    "\n",
    "In other words: If you define two functions with the same name, the second one wins, and the first one disappears."
   ]
  },
  {
   "cell_type": "markdown",
   "id": "56d20020-a565-4520-950c-29dedad8794c",
   "metadata": {},
   "source": [
    "# Arguments and parameters\n",
    "\n",
    "When we call a function, we can pass it one or more arguments. Those are the values that we put inside of `()`:\n",
    "\n",
    "- `len('abcd')`, `'abcd'` is the argument\n",
    "- `sum([10, 20, 30])`, `[10, 20, 30]` is the argument\n",
    "\n",
    "Arguments are values. They might be contained inside of variables, but when we call a function with an argument, the argument's value is passed.\n",
    "\n",
    "A function can grab the arguments in *parameters*. Parameters are variables inside of a function that are guaranteed to be assigned by the caller.\n",
    "\n",
    "Many *many* people confuse the two terms \"arguments\" and \"parameters.\" If you do, you're not alone -- but try to keep them separate, which makes communication and understanding documentation that much easier.\n",
    "\n",
    "If I want my function to accept a argument, I need to define it with a parameter. Parameters are all defined inside of the `()` on the top line of the function definition."
   ]
  },
  {
   "cell_type": "code",
   "execution_count": 11,
   "id": "ac4c5916-64c7-4b26-bf08-42ae1048bf57",
   "metadata": {},
   "outputs": [],
   "source": [
    "def hello(name):\n",
    "    print(f'Hello, {name}!')"
   ]
  },
  {
   "cell_type": "code",
   "execution_count": 12,
   "id": "c33cec5e-3f0c-40fb-8a34-8c8734709ca0",
   "metadata": {},
   "outputs": [
    {
     "name": "stdout",
     "output_type": "stream",
     "text": [
      "Hello, world!\n"
     ]
    }
   ],
   "source": [
    "# parameters: name\n",
    "# arguments: 'world'\n",
    "\n",
    "hello('world')"
   ]
  },
  {
   "cell_type": "code",
   "execution_count": 13,
   "id": "d88c35f8-d279-4f57-8e57-769f69569465",
   "metadata": {},
   "outputs": [
    {
     "ename": "TypeError",
     "evalue": "hello() missing 1 required positional argument: 'name'",
     "output_type": "error",
     "traceback": [
      "\u001b[0;31m---------------------------------------------------------------------------\u001b[0m",
      "\u001b[0;31mTypeError\u001b[0m                                 Traceback (most recent call last)",
      "Cell \u001b[0;32mIn[13], line 3\u001b[0m\n\u001b[1;32m      1\u001b[0m \u001b[38;5;66;03m# what happens if I call the function with zero arguments?\u001b[39;00m\n\u001b[0;32m----> 3\u001b[0m \u001b[43mhello\u001b[49m\u001b[43m(\u001b[49m\u001b[43m)\u001b[49m\n",
      "\u001b[0;31mTypeError\u001b[0m: hello() missing 1 required positional argument: 'name'"
     ]
    }
   ],
   "source": [
    "# what happens if I call the function with zero arguments?\n",
    "\n",
    "hello()"
   ]
  },
  {
   "cell_type": "code",
   "execution_count": 14,
   "id": "91301f24-be9e-4127-821d-43a04ebf4752",
   "metadata": {},
   "outputs": [
    {
     "name": "stdout",
     "output_type": "stream",
     "text": [
      "Hello, out there!\n"
     ]
    }
   ],
   "source": [
    "# For a function like \"hello\", I'll want to get a string argument.\n",
    "\n",
    "hello('out there')"
   ]
  },
  {
   "cell_type": "code",
   "execution_count": 15,
   "id": "41cd1922-d847-4783-82ec-ee11cec8301a",
   "metadata": {},
   "outputs": [
    {
     "name": "stdout",
     "output_type": "stream",
     "text": [
      "Hello, 5!\n"
     ]
    }
   ],
   "source": [
    "# what happens if I pass a non-string?\n",
    "\n",
    "hello(5)"
   ]
  },
  {
   "cell_type": "code",
   "execution_count": 16,
   "id": "ffae674f-4057-48b4-9c40-c68770aa5f5f",
   "metadata": {},
   "outputs": [
    {
     "name": "stdout",
     "output_type": "stream",
     "text": [
      "Hello, {'a': 10, 'b': 20}!\n"
     ]
    }
   ],
   "source": [
    "hello({'a':10, 'b':20})"
   ]
  },
  {
   "cell_type": "code",
   "execution_count": 17,
   "id": "4bc01500-25ce-4aa9-83c2-b4809cedf912",
   "metadata": {},
   "outputs": [
    {
     "name": "stdout",
     "output_type": "stream",
     "text": [
      "Hello, <function hello at 0x1042720c0>!\n"
     ]
    }
   ],
   "source": [
    "hello(hello)   # pass the function to itself!"
   ]
  },
  {
   "cell_type": "markdown",
   "id": "41f932ba-6d70-436d-b806-f7f5dd4f3770",
   "metadata": {},
   "source": [
    "# Type checking on arguments\n",
    "\n",
    "Many people want to tighten things up, such that you can only call a function with certain types of arguments.\n",
    "\n",
    "Python doesn't support this. But there are addons to Python (e.g., Mypy) that let you tag your code and variables with \"type annotations,\" and then if you run an external program like Mypy, it'll find where you have violations.\n",
    "\n"
   ]
  },
  {
   "cell_type": "markdown",
   "id": "66e57057-e15b-48c6-b4c5-8f3bf0219cec",
   "metadata": {},
   "source": [
    "# Exercise: `calc` with arguments\n",
    "\n",
    "Modify the `calc` function, such that it gets three arguments:\n",
    "- The first number\n",
    "- The operator (as a string)\n",
    "- The second number\n",
    "\n",
    "It should still give the same printed result."
   ]
  },
  {
   "cell_type": "code",
   "execution_count": 18,
   "id": "47f0e640-95dd-4c23-ab7c-78656e3d7080",
   "metadata": {},
   "outputs": [],
   "source": [
    "def calc(first, op, second):\n",
    "    if op == '+':\n",
    "        result = first + second\n",
    "    elif op == '-':\n",
    "        result = first - second\n",
    "    else:\n",
    "        result = '(Not supported)'\n",
    "\n",
    "    print(f'{first} {op} {second} = {result}')"
   ]
  },
  {
   "cell_type": "code",
   "execution_count": 20,
   "id": "c793f93a-b4f9-4f2b-bb74-edc7fc6cf940",
   "metadata": {},
   "outputs": [
    {
     "name": "stdout",
     "output_type": "stream",
     "text": [
      "10 - 6 = 4\n"
     ]
    }
   ],
   "source": [
    "# parameters:   first    op     second\n",
    "# arguments:     10      '-'     6\n",
    "\n",
    "calc(10, '-', 6)"
   ]
  },
  {
   "cell_type": "code",
   "execution_count": null,
   "id": "fac11142-ee07-4583-9263-e2f6e66174cf",
   "metadata": {},
   "outputs": [],
   "source": [
    "# MM \n",
    "\n",
    "def calc():\n",
    "    num1 = int(input(\"Write a number: \"))\n",
    "    operator = input(\"Choose the operator '-' or '+': \")\n",
    "    num2 = int(input(\"Write another number: \"))\n",
    "    if operator == '-':\n",
    "        result = num1 - num2\n",
    "    else:    \n",
    "        result = num1 + num2\n",
    "    print(result)\n",
    "calc()"
   ]
  },
  {
   "cell_type": "code",
   "execution_count": null,
   "id": "0915b79c-87c2-48ab-afa9-bf1f1a81840b",
   "metadata": {},
   "outputs": [],
   "source": [
    "# SK\n",
    "\n",
    "def fcalc(a,b,c):\n",
    "\n",
    "    a = int(a)\n",
    "    c = int(c)\n",
    "\n",
    "    if b == '+':\n",
    "        result = a + c\n",
    "    elif b == '-':\n",
    "        result = a - c\n",
    "    else:\n",
    "        result = '(illegal operator)'\n",
    "        \n",
    "    print(f'{a} {b} {c} = {result}')"
   ]
  },
  {
   "cell_type": "markdown",
   "id": "d6de5ef6-54fb-490f-aee4-62a8f8e06602",
   "metadata": {},
   "source": [
    "# Next up\n",
    "\n",
    "1. Documenting our functions with docstrings\n",
    "2. Return values\n",
    "3. Default argument values"
   ]
  },
  {
   "cell_type": "markdown",
   "id": "f0195169-10b1-4f4b-89b6-6e3ef86f34ba",
   "metadata": {},
   "source": [
    "# Docstring\n",
    "\n",
    "We've seen (for a while) that we can use comments in our programs to give hints/explanations to the people who will be maintaining the code after us. \n",
    "\n",
    "Sometimes (often!) we want to give hints to the people who will be calling our function. Comments are really the appropriate place to put such text, because they're meant for the maintainers of the code.\n",
    "\n",
    "What we want is a way to document our API, aka what our function expects to receive as arguments and what it will return.\n",
    "\n",
    "A docstring is Python's way to do this. Very simply, if the first line of a function is a string, then that's the API documentation for the function. Normally/traditionally, we use a triple-quoted string for this, so that we can have more than one line."
   ]
  },
  {
   "cell_type": "code",
   "execution_count": 25,
   "id": "a88bd8d0-e40b-4dd1-b2b3-b2136de8cdb3",
   "metadata": {},
   "outputs": [],
   "source": [
    "def hello(name):\n",
    "    \"\"\"Function to greet people by name.\n",
    "\n",
    "    - Expects: a string argument\n",
    "    - Modifies: Nothing\n",
    "    - Returns: Nothing\n",
    "    \n",
    "    \"\"\"\n",
    "    print(f'Hello, {name}!')"
   ]
  },
  {
   "cell_type": "code",
   "execution_count": 26,
   "id": "52b533f6-3a4c-4dc3-929e-5a68a7498e6f",
   "metadata": {},
   "outputs": [
    {
     "name": "stdout",
     "output_type": "stream",
     "text": [
      "Help on function hello in module __main__:\n",
      "\n",
      "hello(name)\n",
      "    Function to greet people by name.\n",
      "\n",
      "    - Expects: a string argument\n",
      "    - Modifies: Nothing\n",
      "    - Returns: Nothing\n",
      "\n"
     ]
    }
   ],
   "source": [
    "# how can I see the docstring?\n",
    "# one way is to call \"help\" on our function\n",
    "\n",
    "help(hello)"
   ]
  },
  {
   "cell_type": "code",
   "execution_count": 27,
   "id": "906ec7a8-4112-4c47-9157-d05194d3a6f5",
   "metadata": {},
   "outputs": [
    {
     "name": "stdout",
     "output_type": "stream",
     "text": [
      "Help on method_descriptor:\n",
      "\n",
      "lower(self, /)\n",
      "    Return a copy of the string converted to lowercase.\n",
      "\n"
     ]
    }
   ],
   "source": [
    "help(str.lower)"
   ]
  },
  {
   "cell_type": "code",
   "execution_count": 28,
   "id": "cd06f84b-f7a8-41c2-ade8-4a1020285218",
   "metadata": {},
   "outputs": [
    {
     "name": "stdout",
     "output_type": "stream",
     "text": [
      "Help on built-in function print in module builtins:\n",
      "\n",
      "print(*args, sep=' ', end='\\n', file=None, flush=False)\n",
      "    Prints the values to a stream, or to sys.stdout by default.\n",
      "\n",
      "    sep\n",
      "      string inserted between values, default a space.\n",
      "    end\n",
      "      string appended after the last value, default a newline.\n",
      "    file\n",
      "      a file-like object (stream); defaults to the current sys.stdout.\n",
      "    flush\n",
      "      whether to forcibly flush the stream.\n",
      "\n"
     ]
    }
   ],
   "source": [
    "help(print)"
   ]
  },
  {
   "cell_type": "code",
   "execution_count": 29,
   "id": "37dc9115-3048-4fb5-b9d0-4be3dddb68e6",
   "metadata": {},
   "outputs": [
    {
     "data": {
      "text/plain": [
       "\u001b[0;31mSignature:\u001b[0m \u001b[0mhello\u001b[0m\u001b[0;34m(\u001b[0m\u001b[0mname\u001b[0m\u001b[0;34m)\u001b[0m\u001b[0;34m\u001b[0m\u001b[0;34m\u001b[0m\u001b[0m\n",
       "\u001b[0;31mSource:\u001b[0m   \n",
       "\u001b[0;32mdef\u001b[0m \u001b[0mhello\u001b[0m\u001b[0;34m(\u001b[0m\u001b[0mname\u001b[0m\u001b[0;34m)\u001b[0m\u001b[0;34m:\u001b[0m\u001b[0;34m\u001b[0m\n",
       "\u001b[0;34m\u001b[0m    \u001b[0;34m\"\"\"Function to greet people by name.\u001b[0m\n",
       "\u001b[0;34m\u001b[0m\n",
       "\u001b[0;34m    - Expects: a string argument\u001b[0m\n",
       "\u001b[0;34m    - Modifies: Nothing\u001b[0m\n",
       "\u001b[0;34m    - Returns: Nothing\u001b[0m\n",
       "\u001b[0;34m    \u001b[0m\n",
       "\u001b[0;34m    \"\"\"\u001b[0m\u001b[0;34m\u001b[0m\n",
       "\u001b[0;34m\u001b[0m    \u001b[0mprint\u001b[0m\u001b[0;34m(\u001b[0m\u001b[0;34mf'\u001b[0m\u001b[0;34mHello, \u001b[0m\u001b[0;34m{\u001b[0m\u001b[0mname\u001b[0m\u001b[0;34m}\u001b[0m\u001b[0;34m!\u001b[0m\u001b[0;34m'\u001b[0m\u001b[0;34m)\u001b[0m\u001b[0;34m\u001b[0m\u001b[0;34m\u001b[0m\u001b[0m\n",
       "\u001b[0;31mFile:\u001b[0m      /var/folders/rr/0mnyyv811fs5vyp22gf4fxk00000gn/T/ipykernel_41886/2024229997.py\n",
       "\u001b[0;31mType:\u001b[0m      function"
      ]
     },
     "metadata": {},
     "output_type": "display_data"
    }
   ],
   "source": [
    "hello??"
   ]
  },
  {
   "cell_type": "code",
   "execution_count": 30,
   "id": "e1d6ea44-45d7-4e74-b612-08279708d7d3",
   "metadata": {},
   "outputs": [
    {
     "data": {
      "text/plain": [
       "\u001b[0;31mSignature:\u001b[0m \u001b[0mhello\u001b[0m\u001b[0;34m(\u001b[0m\u001b[0mname\u001b[0m\u001b[0;34m)\u001b[0m\u001b[0;34m\u001b[0m\u001b[0;34m\u001b[0m\u001b[0m\n",
       "\u001b[0;31mDocstring:\u001b[0m\n",
       "Function to greet people by name.\n",
       "\n",
       "- Expects: a string argument\n",
       "- Modifies: Nothing\n",
       "- Returns: Nothing\n",
       "\u001b[0;31mFile:\u001b[0m      /var/folders/rr/0mnyyv811fs5vyp22gf4fxk00000gn/T/ipykernel_41886/2024229997.py\n",
       "\u001b[0;31mType:\u001b[0m      function"
      ]
     },
     "metadata": {},
     "output_type": "display_data"
    }
   ],
   "source": [
    "hello?"
   ]
  },
  {
   "cell_type": "markdown",
   "id": "cb2a0afb-181d-4675-97c5-f941ada90ccd",
   "metadata": {},
   "source": [
    "# Return values\n",
    "\n",
    "Every function in Python returns a value. If a function doesn't return a value, then it returns `None`, a special value that means... we didn't return anything.\n",
    "\n",
    "How do we return something from our function? We use the `return` keyword:\n",
    "\n",
    "- If we just say `return`, then we `return None`\n",
    "- If we give a value after `return`, then that is the value returned by our function.\n",
    "\n",
    "We can return any type of value we want.\n",
    "\n",
    "Functions should return values. They shouldn't print values. That gives choices to whoever calls the function: If the function prints output, then the caller has no choice; the info is printed on the screen. But if the function returns a value, then the caller can assign it to a variable or pass it along to another function or print it on the screen.\n",
    "\n",
    "You can have as many `return` invocations as you want in a function; the first one will exit from the function and return a value. But if you have `return` in both the `if` and `else` blocks of a function, then only one will activate."
   ]
  },
  {
   "cell_type": "code",
   "execution_count": null,
   "id": "a036dfc3-542b-40c5-8b0e-74249da706bc",
   "metadata": {},
   "outputs": [],
   "source": []
  },
  {
   "cell_type": "code",
   "execution_count": null,
   "id": "a7a7f8ac-610a-4364-9888-3cfef37ee59e",
   "metadata": {},
   "outputs": [],
   "source": []
  },
  {
   "cell_type": "markdown",
   "id": "1db303b1-bfab-42f8-9cf5-23120232d7d6",
   "metadata": {},
   "source": [
    "# Exercise: Spruce up `calc`\n",
    "\n",
    "1. Modify `calc` such that it has a docstring that explicitly says what the function expects, modifies, and returns.\n",
    "2. Modify it further such that it doesn't `print` on the screen but uses `return` to return a value."
   ]
  },
  {
   "cell_type": "code",
   "execution_count": 31,
   "id": "ce6abda3-e8ef-4a01-9e23-2893fd1f520a",
   "metadata": {},
   "outputs": [],
   "source": [
    "def calc(first, op, second):\n",
    "    \"\"\"Allows you to perform calculations.\n",
    "\n",
    "    - Requires: Three arguments, an int, a string (+ or -) and another int.\n",
    "    - Modifies: Nothing at all\n",
    "    - Returns: A string with the inputs and the result of the calculation.\n",
    "\n",
    "    For example, if you call the function as calc(10, '+', 3), you'll\n",
    "    get a string return value of '10 + 3 = 13'.\n",
    "    \"\"\"\n",
    "    if op == '+':\n",
    "        result = first + second\n",
    "    elif op == '-':\n",
    "        result = first - second\n",
    "    else:\n",
    "        result = '(Not supported)'\n",
    "\n",
    "    return f'{first} {op} {second} = {result}'"
   ]
  },
  {
   "cell_type": "code",
   "execution_count": 33,
   "id": "4bf6a3e6-3d64-4da4-8709-fa7f37b5f5b7",
   "metadata": {},
   "outputs": [],
   "source": [
    "x = calc(2, '+', 300)"
   ]
  },
  {
   "cell_type": "code",
   "execution_count": 34,
   "id": "660582a3-eb72-4960-9c45-980a25a74dfe",
   "metadata": {},
   "outputs": [
    {
     "name": "stdout",
     "output_type": "stream",
     "text": [
      "2 + 300 = 302\n"
     ]
    }
   ],
   "source": [
    "print(x)"
   ]
  },
  {
   "cell_type": "code",
   "execution_count": 35,
   "id": "1da7d324-04a6-4522-b601-079a708c1c07",
   "metadata": {},
   "outputs": [
    {
     "name": "stdout",
     "output_type": "stream",
     "text": [
      "2 + 300 = 3022 + 300 = 3022 + 300 = 302\n"
     ]
    }
   ],
   "source": [
    "print(x * 3)"
   ]
  },
  {
   "cell_type": "code",
   "execution_count": 36,
   "id": "5b77b91f-a470-4527-8ae9-5797e59ddce5",
   "metadata": {
    "scrolled": true
   },
   "outputs": [
    {
     "name": "stdout",
     "output_type": "stream",
     "text": [
      "Help on function calc in module __main__:\n",
      "\n",
      "calc(first, op, second)\n",
      "    Allows you to perform calculations.\n",
      "\n",
      "    - Requires: Three arguments, an int, a string (+ or -) and another int.\n",
      "    - Modifies: Nothing at all\n",
      "    - Returns: A string with the inputs and the result of the calculation.\n",
      "\n",
      "    For example, if you call the function as calc(10, '+', 3), you'll\n",
      "    get a string return value of '10 + 3 = 13'.\n",
      "\n"
     ]
    }
   ],
   "source": [
    "help(calc)"
   ]
  },
  {
   "cell_type": "code",
   "execution_count": 39,
   "id": "00dde6ea-d34a-4363-8fbe-df07352d9482",
   "metadata": {},
   "outputs": [
    {
     "data": {
      "text/plain": [
       "['20', '+', '3', '=', '23']"
      ]
     },
     "execution_count": 39,
     "metadata": {},
     "output_type": "execute_result"
    }
   ],
   "source": [
    "calc(20, '+', 3).split()"
   ]
  },
  {
   "cell_type": "code",
   "execution_count": null,
   "id": "ce548315-ccae-465f-961d-cc3f340dae4c",
   "metadata": {},
   "outputs": [],
   "source": [
    "# SK\n",
    "\n",
    "def fcalc(a,b,c):\n",
    "    \"\"\"Function to add/substract two integers\n",
    "    It only accepts '+' or '-' operators\n",
    "    others are treated as illegal operator.\"\"\"\n",
    "\n",
    "    a = int(a)\n",
    "    c = int(c)\n",
    "\n",
    "    if b == '+':\n",
    "        result = a + c\n",
    "    elif b == '-':\n",
    "        result = a - c\n",
    "    else:\n",
    "        result = '(illegal operator)'\n",
    "        \n",
    "    return result"
   ]
  },
  {
   "cell_type": "markdown",
   "id": "0c39ac91-0b7d-4222-9fb6-450f29df8095",
   "metadata": {},
   "source": [
    "# Exercise: Acronym maker\n",
    "\n",
    "1. Write a function, `acronym`, that takes a string.\n",
    "2. It returns a string, containing the first letter of each word in the input string, all capitalized.\n",
    "\n",
    "If I call:\n",
    "\n",
    "    acronym('read only memory')  # this will return the string 'ROM'\n",
    "    acronym('laughing out loud')  # this will return the string 'LOL'\n",
    "\n",
    "- The function will take a single string\n",
    "- You'll probably want to use a combination of split and a `for` loop\n",
    "- Create an empty list, and add one letter at a time to it\n",
    "\n",
    "    "
   ]
  },
  {
   "cell_type": "code",
   "execution_count": 42,
   "id": "0331302b-72d4-4076-bf16-28144902aaab",
   "metadata": {},
   "outputs": [],
   "source": [
    "def acronym(text):\n",
    "    output = []\n",
    "\n",
    "    for one_word in text.split():\n",
    "        output.append(one_word[0])\n",
    "\n",
    "    return ''.join(output).upper()"
   ]
  },
  {
   "cell_type": "code",
   "execution_count": 43,
   "id": "e064d62c-bef7-4bb5-95b5-50e70201b9e6",
   "metadata": {},
   "outputs": [
    {
     "data": {
      "text/plain": [
       "'LOL'"
      ]
     },
     "execution_count": 43,
     "metadata": {},
     "output_type": "execute_result"
    }
   ],
   "source": [
    "acronym('laugh out loud')"
   ]
  },
  {
   "cell_type": "code",
   "execution_count": 44,
   "id": "9110dee5-0229-4812-8afa-18246c41c7a3",
   "metadata": {},
   "outputs": [
    {
     "data": {
      "text/plain": [
       "'IBM'"
      ]
     },
     "execution_count": 44,
     "metadata": {},
     "output_type": "execute_result"
    }
   ],
   "source": [
    "acronym('international business machines')"
   ]
  },
  {
   "cell_type": "code",
   "execution_count": null,
   "id": "936e0362-8d61-41dc-9211-2da7872eeb15",
   "metadata": {},
   "outputs": [],
   "source": [
    "# MM \n",
    "\n",
    "def acronym_maker():\n",
    "    '''This fuction takes your input and turns it into an acronym.\n",
    "        for example:\n",
    "        - The acronym maker function is cool\n",
    "        - The output would be TAMFIC.\n",
    "    '''\n",
    "    user_input = input(\"Type some phrase: \").strip()\n",
    "    empty_string = ''\n",
    "    for l in user_input.split():\n",
    "        empty_string += l[0]\n",
    "    return empty_string.upper()\n",
    "print(acronym_maker())"
   ]
  },
  {
   "cell_type": "markdown",
   "id": "fd35d3b2-8bde-4783-a9af-66ab2ef6ba70",
   "metadata": {},
   "source": [
    "# Positional vs. keyword arguments\n",
    "\n",
    "So far, we have passed arguments to our functions in a *positional* way. Meaning: The first argument is assigned to the first parameter, the second to the second parameter, etc.\n",
    "\n",
    "Python allows us to pass arguments in another way, as *keyword* arguments. You can always tell the keyword arguments because they look like `NAME=VALUE`, with an `=` in the middle.\n",
    "\n",
    "In all of the functions we've written so far, we can pass all arguments as either positional or keyword. This is often the case."
   ]
  },
  {
   "cell_type": "code",
   "execution_count": 45,
   "id": "c5226ceb-6b97-4d00-96f1-6913e436abcd",
   "metadata": {},
   "outputs": [],
   "source": [
    "def add(first, second):\n",
    "    return first + second"
   ]
  },
  {
   "cell_type": "code",
   "execution_count": 46,
   "id": "ca571caa-0953-48b2-9a4d-59d81df3c7b8",
   "metadata": {},
   "outputs": [
    {
     "data": {
      "text/plain": [
       "35"
      ]
     },
     "execution_count": 46,
     "metadata": {},
     "output_type": "execute_result"
    }
   ],
   "source": [
    "# parameters:  first   second\n",
    "# arguments:    30       5     # positional arguments, assigned to parameters based on order\n",
    "\n",
    "add(30, 5)"
   ]
  },
  {
   "cell_type": "code",
   "execution_count": 47,
   "id": "0d12dbf0-42da-4a0a-926b-01e62bb97ae9",
   "metadata": {},
   "outputs": [
    {
     "data": {
      "text/plain": [
       "35"
      ]
     },
     "execution_count": 47,
     "metadata": {},
     "output_type": "execute_result"
    }
   ],
   "source": [
    "# parameters: first     second\n",
    "# arguments:    30         5    # keyword arguments, assigned based on names\n",
    "\n",
    "add(first=30, second=5)"
   ]
  },
  {
   "cell_type": "code",
   "execution_count": 48,
   "id": "7e759588-1045-4e4f-a082-146ecf914335",
   "metadata": {},
   "outputs": [
    {
     "data": {
      "text/plain": [
       "35"
      ]
     },
     "execution_count": 48,
     "metadata": {},
     "output_type": "execute_result"
    }
   ],
   "source": [
    "# parameters: first     second\n",
    "# arguments:    5         30    # keyword arguments, assigned based on names\n",
    "\n",
    "add(second=30, first=5)"
   ]
  },
  {
   "cell_type": "code",
   "execution_count": 50,
   "id": "fefb6d14-2511-4ee7-8cb3-f251025cf7bc",
   "metadata": {},
   "outputs": [
    {
     "data": {
      "text/plain": [
       "35"
      ]
     },
     "execution_count": 50,
     "metadata": {},
     "output_type": "execute_result"
    }
   ],
   "source": [
    "# can I pass some arguments positionally and others as keywords?\n",
    "\n",
    "add(5, second=30)  # first is positional, second is keyword"
   ]
  },
  {
   "cell_type": "code",
   "execution_count": 51,
   "id": "8de4fbef-173a-467f-8894-6c607304a2d8",
   "metadata": {},
   "outputs": [
    {
     "ename": "SyntaxError",
     "evalue": "positional argument follows keyword argument (2647667990.py, line 1)",
     "output_type": "error",
     "traceback": [
      "\u001b[0;36m  Cell \u001b[0;32mIn[51], line 1\u001b[0;36m\u001b[0m\n\u001b[0;31m    add(first=5, 30)\u001b[0m\n\u001b[0m                   ^\u001b[0m\n\u001b[0;31mSyntaxError\u001b[0m\u001b[0;31m:\u001b[0m positional argument follows keyword argument\n"
     ]
    }
   ],
   "source": [
    "add(first=5, 30)  # this is illegal, because all positional arguments must come before all keyword argument"
   ]
  },
  {
   "cell_type": "code",
   "execution_count": null,
   "id": "74134821-6c2a-4714-983c-5a57143f7877",
   "metadata": {},
   "outputs": [],
   "source": []
  }
 ],
 "metadata": {
  "kernelspec": {
   "display_name": "Python 3 (ipykernel)",
   "language": "python",
   "name": "python3"
  },
  "language_info": {
   "codemirror_mode": {
    "name": "ipython",
    "version": 3
   },
   "file_extension": ".py",
   "mimetype": "text/x-python",
   "name": "python",
   "nbconvert_exporter": "python",
   "pygments_lexer": "ipython3",
   "version": "3.12.1"
  }
 },
 "nbformat": 4,
 "nbformat_minor": 5
}
