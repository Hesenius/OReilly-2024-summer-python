{
 "cells": [
  {
   "cell_type": "markdown",
   "id": "296066d9-97ee-43c6-8e4a-1c437cadbde8",
   "metadata": {},
   "source": [
    "# Agenda, week 4: Functions!\n",
    "\n",
    "1. What are functions?\n",
    "2. Writing simple functions\n",
    "3. Arguments and parameters\n",
    "4. Return values from a function\n",
    "5. Default argument values\n",
    "6. Local vs. global variables"
   ]
  },
  {
   "cell_type": "markdown",
   "id": "111b41a8-f7b9-4ca6-8473-5de9a3d520d5",
   "metadata": {},
   "source": [
    "# What are functions?\n",
    "\n",
    "Functions aren't, strictly speaking, necessary when we program. A function is a verb that define for Python's use.\n",
    "\n",
    "Python comes with a bunch of existing functions:\n",
    "\n",
    "- `print`\n",
    "- `len`\n",
    "- `sum`\n",
    "- `input`\n",
    "\n",
    "(For our purposes, methods are also functions.)\n",
    "\n",
    "We typically want to write functions. The biggest reason is that it gives us a higher level of abstraction.  Meaning: We can use the name to communicate with other people, and not get bogged down in all of the details.\n",
    "\n",
    "When we define a function, we are defining a new verb for Python, but we're also defining a word that we can use to ignore the details (unless we want to deal with them). We can then build on top of our own infrastructure, taking advantage of the abstractions that we ourselves created.\n",
    "\n",
    "In programming, people are used to talking about \"data\" and \"programs.\" The idea is that the data is all of the nouns, the things that we want to work with, and the programs are the verbs, doing the actual actions.\n",
    "\n",
    "In Python, functions are nouns, too.  A variable can refer to a string, list, dict, or even a function. We have to be careful to know what kind of value a variable refers to."
   ]
  },
  {
   "cell_type": "markdown",
   "id": "18f719a9-9c9f-4a4d-9b6d-45feefbfbbc9",
   "metadata": {},
   "source": [
    "# Functions vs. methods\n",
    "\n",
    "A method is a function that's attached to an object, usually with the `.` character.\n",
    "\n",
    "This is a function:\n",
    "\n",
    "    s = 'abcd'\n",
    "    len(s)\n",
    "\n",
    "This is a method:\n",
    "\n",
    "    s.upper()  \n",
    "\n",
    "The method needs to be called on an object (in this case, of type `str`). Behind the scenes, a function is really running. A method's big difference is that because it's attached to an object, that object can be passed to the method which can use its data. \n",
    "\n",
    "Methods come from the world of object-oriented programming."
   ]
  },
  {
   "cell_type": "markdown",
   "id": "965243c0-0dc0-4336-9a63-1ded33061299",
   "metadata": {},
   "source": [
    "# Functions vs. procedures\n",
    "\n",
    "Technically speaking:\n",
    "\n",
    "- A function returns a value to its caller. For example, `len` returns the length of the item we pass it. We can take that returned value and assign it to a variable, or use it in a function call.\n",
    "- A procedure does not return a value. We call it to execute something, not because we want a value back.\n",
    "\n",
    "Some languages distinguish between the two. In Python, we don't have procedures. Every single function (or method) returns a value of some sort. That value, if we don't specify it, is the special value `None` that Python provides."
   ]
  },
  {
   "cell_type": "markdown",
   "id": "61d5baae-fe7d-4aff-813c-f1da8dbe9812",
   "metadata": {},
   "source": [
    "# How do we define a function?\n",
    "\n",
    "We use the `def` keyword. When we use `def`, we're going to:\n",
    "\n",
    "- `def`\n",
    "- the name of the function we want to define -- this name is just like a variable in the rules it has to follow\n",
    "- `()`, currently empty\n",
    "- `:`, marking the end of the line\n",
    "- indented block, the function body.\n",
    "\n",
    "In the function body we can put *any code we want* -- loops, `if`/`else`, `input`, working with files, defining variables.\n",
    "\n",
    "When we're done defining the function, we can then \"call\" it or execute it, by naming the function and putting `()` after its name."
   ]
  },
  {
   "cell_type": "code",
   "execution_count": 1,
   "id": "26b5621e-8046-4db9-8df5-a64be16962e7",
   "metadata": {},
   "outputs": [],
   "source": [
    "def hello():           # function is called \"hello\"\n",
    "    print('Hello!')    # function body prints the text \"Hello!\""
   ]
  },
  {
   "cell_type": "code",
   "execution_count": 2,
   "id": "cff5e170-59c5-4356-acb8-d49c8d738e6f",
   "metadata": {},
   "outputs": [
    {
     "name": "stdout",
     "output_type": "stream",
     "text": [
      "Hello!\n"
     ]
    }
   ],
   "source": [
    "# if we ask Python to run our function...\n",
    "\n",
    "hello()"
   ]
  },
  {
   "cell_type": "code",
   "execution_count": 3,
   "id": "1094df2f-b7da-491c-b926-f07d4916d4c9",
   "metadata": {},
   "outputs": [
    {
     "data": {
      "text/plain": [
       "function"
      ]
     },
     "execution_count": 3,
     "metadata": {},
     "output_type": "execute_result"
    }
   ],
   "source": [
    "# if we ask Python what the variable hello contains\n",
    "\n",
    "type(hello)   # here, I'm not invoking the function; I'm passing its name to the \"type\" function"
   ]
  },
  {
   "cell_type": "code",
   "execution_count": 4,
   "id": "c060a1f4-0d82-43f4-add8-9207ca94128c",
   "metadata": {},
   "outputs": [
    {
     "data": {
      "text/plain": [
       "<function __main__.hello()>"
      ]
     },
     "execution_count": 4,
     "metadata": {},
     "output_type": "execute_result"
    }
   ],
   "source": [
    "hello"
   ]
  },
  {
   "cell_type": "code",
   "execution_count": 5,
   "id": "73610747-5be2-4efc-b23f-0a85befe425c",
   "metadata": {},
   "outputs": [
    {
     "name": "stdout",
     "output_type": "stream",
     "text": [
      "Hello!\n"
     ]
    }
   ],
   "source": [
    "# you must use parentheses to execute the function!\n",
    "\n",
    "hello()"
   ]
  },
  {
   "cell_type": "markdown",
   "id": "01582d28-a127-4e40-81ac-94fa6820381e",
   "metadata": {},
   "source": [
    "# What happens when we define our function?\n",
    "\n",
    "1. A new \"function object\" is created\n",
    "2. That function object is assigned to the name we gave after `def`\n",
    "\n",
    "The function object is actually *compiled*, which most people don't realize happens in Python. The end result of this compilation is \"byte codes,\" which are similar to Java and .NET in how they work."
   ]
  },
  {
   "cell_type": "markdown",
   "id": "bd5f1bce-30b1-4519-b9e4-cff4ce237a8e",
   "metadata": {},
   "source": [
    "# Exercise: Calculator function\n",
    "\n",
    "1. Write a function, `calc`, that when run, asks the user to enter a number, an operator (`+` or `-`), and another number. These should be entered separately, with three calls to `input`.\n",
    "2. If the operator is `+` or `-`, then perform the appropriate calculation and store in `result`. Otherwise, `result` should be some sort of error message.\n",
    "3. Print, on the screen, the user's input numbers and operator, and also the result of the operation.\n",
    "\n",
    "```\n",
    "calc()\n",
    "\n",
    "Enter first number: 10\n",
    "Enter operator: +\n",
    "Enter second number: 8\n",
    "10 + 8 = 18\n",
    "\n",
    "Enter first number: 15\n",
    "Enter operator: *\n",
    "Enter second number: 3\n",
    "15 * 3 = (illegal operator)\n",
    "```"
   ]
  },
  {
   "cell_type": "code",
   "execution_count": null,
   "id": "8ef3be09-a201-4887-bb6c-28a98662dab2",
   "metadata": {},
   "outputs": [],
   "source": [
    "|"
   ]
  }
 ],
 "metadata": {
  "kernelspec": {
   "display_name": "Python 3 (ipykernel)",
   "language": "python",
   "name": "python3"
  },
  "language_info": {
   "codemirror_mode": {
    "name": "ipython",
    "version": 3
   },
   "file_extension": ".py",
   "mimetype": "text/x-python",
   "name": "python",
   "nbconvert_exporter": "python",
   "pygments_lexer": "ipython3",
   "version": "3.12.1"
  }
 },
 "nbformat": 4,
 "nbformat_minor": 5
}
