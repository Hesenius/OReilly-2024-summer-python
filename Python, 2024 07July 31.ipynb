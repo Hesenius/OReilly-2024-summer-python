{
 "cells": [
  {
   "cell_type": "markdown",
   "id": "296066d9-97ee-43c6-8e4a-1c437cadbde8",
   "metadata": {},
   "source": [
    "# Agenda, week 4: Functions!\n",
    "\n",
    "1. What are functions?\n",
    "2. Writing simple functions\n",
    "3. Arguments and parameters\n",
    "4. Return values from a function\n",
    "5. Default argument values\n",
    "6. Local vs. global variables"
   ]
  },
  {
   "cell_type": "markdown",
   "id": "111b41a8-f7b9-4ca6-8473-5de9a3d520d5",
   "metadata": {},
   "source": [
    "# What are functions?\n",
    "\n"
   ]
  }
 ],
 "metadata": {
  "kernelspec": {
   "display_name": "Python 3 (ipykernel)",
   "language": "python",
   "name": "python3"
  },
  "language_info": {
   "codemirror_mode": {
    "name": "ipython",
    "version": 3
   },
   "file_extension": ".py",
   "mimetype": "text/x-python",
   "name": "python",
   "nbconvert_exporter": "python",
   "pygments_lexer": "ipython3",
   "version": "3.12.1"
  }
 },
 "nbformat": 4,
 "nbformat_minor": 5
}
