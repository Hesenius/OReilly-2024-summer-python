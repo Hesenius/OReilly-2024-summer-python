{
 "cells": [
  {
   "cell_type": "markdown",
   "id": "cc4cdf9a-8b16-44ce-a7eb-7f8b67ab1705",
   "metadata": {},
   "source": [
    "# Agenda, week 5: Modules and packages\n",
    "\n",
    "1. What are modules?\n",
    "2. What modules can contain\n",
    "3. The different forms of `import`\n",
    "4. Developing our own module\n",
    "5. What happens when we import a module?\n",
    "6. Python's standard library\n",
    "7. Packages, PyPI, and `pip`\n",
    "8. What next?"
   ]
  },
  {
   "cell_type": "markdown",
   "id": "6309e0ce-cfe6-4d11-b615-6fa26e8e271b",
   "metadata": {},
   "source": [
    "# What are modules?\n",
    "\n",
    "DRY (don't repeat yourself) rule says: Only write code once, if you can.\n",
    "\n",
    "1. If we have several lines in a row that are roughly the same, then we can turn them into a loop.\n",
    "2. If we have the same code in several different places in our program, then we can use a function to write the code once and execute it multiple times.\n",
    "3. If we have the same code in several different *programs*, then we can put it in a *library*, and refer to it multiple times.\n",
    "\n",
    "In Python, we call our libraries \"modules\" and \"packages.\" A module actually does two things:\n",
    "\n",
    "1. It provides us with library functionality, so that we don't have to rewrite the same code or reinvent the wheel.\n",
    "2. It also provides us with namespacing, ensuring that we don't have namespace collisions, where variables collide.\n",
    "\n",
    "# What do modules contain?\n",
    "\n",
    "Any definitions we want:\n",
    "\n",
    "- Variables\n",
    "- Functions\n",
    "- New data types (\"classes\")\n",
    "\n",
    "Python doesn't really have constants, aka names that are permanently attached to values, but it's traditional to call variables with ALL CAPS NAMES \"constants,\" and to avoid resetting them. Many times, a module will contain one or more constants that we are welcome to use, but aren't supposed to modify.\n",
    "\n",
    "When you encounter a module, you should ask yourself what definitions it brings to the table. Usually, all of the functionality in a module will be related."
   ]
  },
  {
   "cell_type": "markdown",
   "id": "48e118b2-1b3f-4b0e-bff9-a1207d3d0785",
   "metadata": {},
   "source": [
    "# `import` is how we use modules\n",
    "\n",
    "In order to use a module, we use the `import` statement. It looks like this:\n",
    "\n",
    "    import random\n",
    "\n",
    "This means: I want to use the `random` module that comes with Python. Notice a few things about `import` that might surprise you if you come from other programming languages:\n",
    "\n",
    "1. `import` is *not* a function. Don't use parentheses.\n",
    "2. The argument that we give to `import` is the name of the module variable we want to define.\n",
    "3. We don't provide, in Python, the filename or path from which `import` should read. That is implicit. The name of the module variable and the name of the module file are the same (more or less). In the above `import random`, we're saying that we want to load the `random.py` module that Python will know how to find."
   ]
  },
  {
   "cell_type": "code",
   "execution_count": 1,
   "id": "03ab7256-822e-422f-ab03-3c2c4fcce59c",
   "metadata": {},
   "outputs": [],
   "source": [
    "import random"
   ]
  },
  {
   "cell_type": "code",
   "execution_count": 2,
   "id": "4bbc6a68-3da2-4650-bbd8-a87b2b852229",
   "metadata": {},
   "outputs": [
    {
     "data": {
      "text/plain": [
       "module"
      ]
     },
     "execution_count": 2,
     "metadata": {},
     "output_type": "execute_result"
    }
   ],
   "source": [
    "type(random)   # what kind of value is in the \"random\" variable?"
   ]
  },
  {
   "cell_type": "code",
   "execution_count": 3,
   "id": "5629cb5d-69bb-46ca-8209-68172ef23fa5",
   "metadata": {},
   "outputs": [
    {
     "data": {
      "text/plain": [
       "<module 'random' from '/Users/reuven/.pyenv/versions/3.12.1/lib/python3.12/random.py'>"
      ]
     },
     "execution_count": 3,
     "metadata": {},
     "output_type": "execute_result"
    }
   ],
   "source": [
    "# let's look at the module object a moment\n",
    "# if we ask the module to show us its printed representation, we'll see the file that was loaded\n",
    "\n",
    "random"
   ]
  },
  {
   "cell_type": "markdown",
   "id": "a473209f-e1ca-47d7-a6d0-fb8fdf1179d0",
   "metadata": {},
   "source": [
    "# How did it know?\n",
    "\n",
    "How did Python know to look in that directory for the `random.py` file?\n",
    "\n",
    "Python has a module called `sys` which is already loaded into memory, but we need to `import` it to have its name available. In `sys`, we have a value called `sys.path` -- a list of strings, directory names where Python will search for our module."
   ]
  },
  {
   "cell_type": "code",
   "execution_count": 4,
   "id": "8393b1b8-46b5-450e-8ae6-55dab7988293",
   "metadata": {},
   "outputs": [
    {
     "data": {
      "text/plain": [
       "['/Users/reuven/Courses/Current/OReilly-2024-summer-python',\n",
       " '/Users/reuven/.pyenv/versions/3.12.1/lib/python312.zip',\n",
       " '/Users/reuven/.pyenv/versions/3.12.1/lib/python3.12',\n",
       " '/Users/reuven/.pyenv/versions/3.12.1/lib/python3.12/lib-dynload',\n",
       " '',\n",
       " '/Users/reuven/.pyenv/versions/3.12.1/lib/python3.12/site-packages']"
      ]
     },
     "execution_count": 4,
     "metadata": {},
     "output_type": "execute_result"
    }
   ],
   "source": [
    "import sys\n",
    "\n",
    "sys.path"
   ]
  },
  {
   "cell_type": "markdown",
   "id": "4275f82d-939c-490d-b902-e3e0310dfe9e",
   "metadata": {},
   "source": [
    "# Thinking about `sys.path`\n",
    "\n",
    "1. If there are multiple files with the same name in `sys.path`, then the first location wins, and the rest are ignored.\n",
    "2. The first directory is (almost always) the directory in which the program is located. This means that if you have a simple project with three or four files, then they can `import` one another because they're in the same directory.\n",
    "3. Modules are specific to a version of Python (unless they're in the current directory).\n",
    "4. `sys.path` is a list of strings, and we can modify it if we want. But that's a bad idea! It's much better to let Python modify it via the environment variable `PYTHONPATH` that you can set.\n",
    "5. The final place that we look is always `site-packages`, which is where things from the Internet (PyPI) are installed by the `pip` program."
   ]
  },
  {
   "cell_type": "code",
   "execution_count": null,
   "id": "eed694d7-66dd-4104-8988-e6346cd3b236",
   "metadata": {},
   "outputs": [],
   "source": []
  }
 ],
 "metadata": {
  "kernelspec": {
   "display_name": "Python 3 (ipykernel)",
   "language": "python",
   "name": "python3"
  },
  "language_info": {
   "codemirror_mode": {
    "name": "ipython",
    "version": 3
   },
   "file_extension": ".py",
   "mimetype": "text/x-python",
   "name": "python",
   "nbconvert_exporter": "python",
   "pygments_lexer": "ipython3",
   "version": "3.12.1"
  }
 },
 "nbformat": 4,
 "nbformat_minor": 5
}
