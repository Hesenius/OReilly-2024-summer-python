{
 "cells": [
  {
   "cell_type": "markdown",
   "id": "cc4cdf9a-8b16-44ce-a7eb-7f8b67ab1705",
   "metadata": {},
   "source": [
    "# Agenda, week 5: Modules and packages\n",
    "\n",
    "1. What are modules?\n",
    "2. What modules can contain\n",
    "3. The different forms of `import`\n",
    "4. Developing our own module\n",
    "5. What happens when we import a module?\n",
    "6. Python's standard library\n",
    "7. Packages, PyPI, and `pip`\n",
    "8. What next?"
   ]
  },
  {
   "cell_type": "markdown",
   "id": "6309e0ce-cfe6-4d11-b615-6fa26e8e271b",
   "metadata": {},
   "source": [
    "# What are modules?\n",
    "\n",
    "DRY (don't repeat yourself) rule says: Only write code once, if you can.\n",
    "\n",
    "1. If we have several lines in a row that are roughly the same, then we can turn them into a loop.\n",
    "2. If we have the same code in several different places in our program, then we can use a function to write the code once and execute it multiple times.\n",
    "3. If we have the same code in several different *pr"
   ]
  }
 ],
 "metadata": {
  "kernelspec": {
   "display_name": "Python 3 (ipykernel)",
   "language": "python",
   "name": "python3"
  },
  "language_info": {
   "codemirror_mode": {
    "name": "ipython",
    "version": 3
   },
   "file_extension": ".py",
   "mimetype": "text/x-python",
   "name": "python",
   "nbconvert_exporter": "python",
   "pygments_lexer": "ipython3",
   "version": "3.12.1"
  }
 },
 "nbformat": 4,
 "nbformat_minor": 5
}
