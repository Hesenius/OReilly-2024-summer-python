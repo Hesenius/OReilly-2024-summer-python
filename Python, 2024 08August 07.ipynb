{
 "cells": [
  {
   "cell_type": "markdown",
   "id": "cc4cdf9a-8b16-44ce-a7eb-7f8b67ab1705",
   "metadata": {},
   "source": [
    "# Agenda, week 5"
   ]
  },
  {
   "cell_type": "code",
   "execution_count": null,
   "id": "95cf7b06-e420-4ea6-8126-fcdcde78f889",
   "metadata": {},
   "outputs": [],
   "source": []
  }
 ],
 "metadata": {
  "kernelspec": {
   "display_name": "Python 3 (ipykernel)",
   "language": "python",
   "name": "python3"
  },
  "language_info": {
   "codemirror_mode": {
    "name": "ipython",
    "version": 3
   },
   "file_extension": ".py",
   "mimetype": "text/x-python",
   "name": "python",
   "nbconvert_exporter": "python",
   "pygments_lexer": "ipython3",
   "version": "3.12.1"
  }
 },
 "nbformat": 4,
 "nbformat_minor": 5
}
