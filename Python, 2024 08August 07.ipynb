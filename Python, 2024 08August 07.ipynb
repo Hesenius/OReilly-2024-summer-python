{
 "cells": [
  {
   "cell_type": "markdown",
   "id": "cc4cdf9a-8b16-44ce-a7eb-7f8b67ab1705",
   "metadata": {},
   "source": [
    "# Agenda, week 5: Modules and packages\n",
    "\n",
    "1. What are modules?\n",
    "2. What modules can contain\n",
    "3. The different forms of `import`\n",
    "4. Developing our own module\n",
    "5. What happens when we import a module?\n",
    "6. Python's standard library\n",
    "7. Packages, PyPI, and `pip`\n",
    "8. What next?"
   ]
  },
  {
   "cell_type": "markdown",
   "id": "6309e0ce-cfe6-4d11-b615-6fa26e8e271b",
   "metadata": {},
   "source": [
    "# What are modules?\n",
    "\n",
    "DRY (don't repeat yourself) rule says: Only write code once, if you can.\n",
    "\n",
    "1. If we have several lines in a row that are roughly the same, then we can turn them into a loop.\n",
    "2. If we have the same code in several different places in our program, then we can use a function to write the code once and execute it multiple times.\n",
    "3. If we have the same code in several different *programs*, then we can put it in a *library*, and refer to it multiple times.\n",
    "\n",
    "In Python, we call our libraries \"modules\" and \"packages.\" A module actually does two things:\n",
    "\n",
    "1. It provides us with library functionality, so that we don't have to rewrite the same code or reinvent the wheel.\n",
    "2. It also provides us with namespacing, ensuring that we don't have namespace collisions, where variables collide.\n",
    "\n",
    "# What do modules contain?\n",
    "\n",
    "Any definitions we want:\n",
    "\n",
    "- Variables\n",
    "- Functions\n",
    "- New data types (\"classes\")\n",
    "\n",
    "Python doesn't really have constants, aka names that are permanently attached to values, but it's traditional to call variables with ALL CAPS NAMES \"constants,\" and to avoid resetting them. Many times, a module will contain one or more constants that we are welcome to use, but aren't supposed to modify.\n",
    "\n",
    "When you encounter a module, you should ask yourself what definitions it brings to the table. Usually, all of the functionality in a module will be related."
   ]
  },
  {
   "cell_type": "markdown",
   "id": "48e118b2-1b3f-4b0e-bff9-a1207d3d0785",
   "metadata": {},
   "source": [
    "# `import` is how we use modules\n",
    "\n",
    "In order to use a module, we use the `import` statement. It looks like this:\n",
    "\n",
    "    import random\n",
    "\n",
    "This means: I want to use the `random` module that comes with Python. Notice a few things about `import` that might surprise you if you come from other programming languages:\n",
    "\n",
    "1. `import` is *not* a function. Don't use parentheses.\n",
    "2. The argument that we give to `import` is the name of the module variable we want to define.\n",
    "3. We don't provide, in Python, the filename or path from which `import` should read. That is implicit. The name of the module variable and the name of the module file are the same (more or less). In the above `import random`, we're saying that we want to load the `random.py` module that Python will know how to find."
   ]
  },
  {
   "cell_type": "code",
   "execution_count": 1,
   "id": "03ab7256-822e-422f-ab03-3c2c4fcce59c",
   "metadata": {},
   "outputs": [],
   "source": [
    "import random"
   ]
  },
  {
   "cell_type": "code",
   "execution_count": 2,
   "id": "4bbc6a68-3da2-4650-bbd8-a87b2b852229",
   "metadata": {},
   "outputs": [
    {
     "data": {
      "text/plain": [
       "module"
      ]
     },
     "execution_count": 2,
     "metadata": {},
     "output_type": "execute_result"
    }
   ],
   "source": [
    "type(random)   # what kind of value is in the \"random\" variable?"
   ]
  },
  {
   "cell_type": "code",
   "execution_count": 3,
   "id": "5629cb5d-69bb-46ca-8209-68172ef23fa5",
   "metadata": {},
   "outputs": [
    {
     "data": {
      "text/plain": [
       "<module 'random' from '/Users/reuven/.pyenv/versions/3.12.1/lib/python3.12/random.py'>"
      ]
     },
     "execution_count": 3,
     "metadata": {},
     "output_type": "execute_result"
    }
   ],
   "source": [
    "# let's look at the module object a moment\n",
    "# if we ask the module to show us its printed representation, we'll see the file that was loaded\n",
    "\n",
    "random"
   ]
  },
  {
   "cell_type": "markdown",
   "id": "a473209f-e1ca-47d7-a6d0-fb8fdf1179d0",
   "metadata": {},
   "source": [
    "# How did it know?\n",
    "\n",
    "How did Python know to look in that directory for the `random.py` file?\n",
    "\n",
    "Python has a module called `sys` which is already loaded into memory, but we need to `import` it to have its name available. In `sys`, we have a value called `sys.path` -- a list of strings, directory names where Python will search for our module."
   ]
  },
  {
   "cell_type": "code",
   "execution_count": 4,
   "id": "8393b1b8-46b5-450e-8ae6-55dab7988293",
   "metadata": {},
   "outputs": [
    {
     "data": {
      "text/plain": [
       "['/Users/reuven/Courses/Current/OReilly-2024-summer-python',\n",
       " '/Users/reuven/.pyenv/versions/3.12.1/lib/python312.zip',\n",
       " '/Users/reuven/.pyenv/versions/3.12.1/lib/python3.12',\n",
       " '/Users/reuven/.pyenv/versions/3.12.1/lib/python3.12/lib-dynload',\n",
       " '',\n",
       " '/Users/reuven/.pyenv/versions/3.12.1/lib/python3.12/site-packages']"
      ]
     },
     "execution_count": 4,
     "metadata": {},
     "output_type": "execute_result"
    }
   ],
   "source": [
    "import sys\n",
    "\n",
    "sys.path"
   ]
  },
  {
   "cell_type": "markdown",
   "id": "4275f82d-939c-490d-b902-e3e0310dfe9e",
   "metadata": {},
   "source": [
    "# Thinking about `sys.path`\n",
    "\n",
    "1. If there are multiple files with the same name in `sys.path`, then the first location wins, and the rest are ignored.\n",
    "2. The first directory is (almost always) the directory in which the program is located. This means that if you have a simple project with three or four files, then they can `import` one another because they're in the same directory.\n",
    "3. Modules are specific to a version of Python (unless they're in the current directory).\n",
    "4. `sys.path` is a list of strings, and we can modify it if we want. But that's a bad idea! It's much better to let Python modify it via the environment variable `PYTHONPATH` that you can set.\n",
    "5. The final place that we look is always `site-packages`, which is where things from the Internet (PyPI) are installed by the `pip` program."
   ]
  },
  {
   "cell_type": "markdown",
   "id": "3a4ba0b9-6bda-441c-bb00-d6f53840b940",
   "metadata": {},
   "source": [
    "# How to use a module\n",
    "\n",
    "Once we have used `import` on a module, we can access its values via `attributes`, names after a `.`. Now I can use `random.randint` to generate a random integer:"
   ]
  },
  {
   "cell_type": "code",
   "execution_count": 5,
   "id": "c91264a1-32e7-4ded-b5fd-0f9473070887",
   "metadata": {},
   "outputs": [
    {
     "data": {
      "text/plain": [
       "34"
      ]
     },
     "execution_count": 5,
     "metadata": {},
     "output_type": "execute_result"
    }
   ],
   "source": [
    "import random\n",
    "\n",
    "random.randint(0, 100)"
   ]
  },
  {
   "cell_type": "markdown",
   "id": "191234fb-fb09-481a-ac68-d3ce344946b4",
   "metadata": {},
   "source": [
    "# Exercise: Guessing game\n",
    "\n",
    "1. Use `random.randint` to generate a random number from 0-100, and assign to `number`.\n",
    "2. Repeatedly ask the user to guess the number.\n",
    "3. With each guess, they should get one of the following:\n",
    "    - Too low\n",
    "    - Too high\n",
    "    - You got it!\n",
    "4. If the user got it, then they should exit from the program.\n",
    "5. You can (if you want) keep track of how many guesses it took them."
   ]
  },
  {
   "cell_type": "code",
   "execution_count": 6,
   "id": "883e2f54-420e-47bf-8bc1-73a56bb90eb1",
   "metadata": {
    "scrolled": true
   },
   "outputs": [
    {
     "data": {
      "text/plain": [
       "['BPF',\n",
       " 'LOG4',\n",
       " 'NV_MAGICCONST',\n",
       " 'RECIP_BPF',\n",
       " 'Random',\n",
       " 'SG_MAGICCONST',\n",
       " 'SystemRandom',\n",
       " 'TWOPI',\n",
       " '_ONE',\n",
       " '_Sequence',\n",
       " '__all__',\n",
       " '__builtins__',\n",
       " '__cached__',\n",
       " '__doc__',\n",
       " '__file__',\n",
       " '__loader__',\n",
       " '__name__',\n",
       " '__package__',\n",
       " '__spec__',\n",
       " '_accumulate',\n",
       " '_acos',\n",
       " '_bisect',\n",
       " '_ceil',\n",
       " '_cos',\n",
       " '_e',\n",
       " '_exp',\n",
       " '_fabs',\n",
       " '_floor',\n",
       " '_index',\n",
       " '_inst',\n",
       " '_isfinite',\n",
       " '_lgamma',\n",
       " '_log',\n",
       " '_log2',\n",
       " '_os',\n",
       " '_pi',\n",
       " '_random',\n",
       " '_repeat',\n",
       " '_sha512',\n",
       " '_sin',\n",
       " '_sqrt',\n",
       " '_test',\n",
       " '_test_generator',\n",
       " '_urandom',\n",
       " '_warn',\n",
       " 'betavariate',\n",
       " 'binomialvariate',\n",
       " 'choice',\n",
       " 'choices',\n",
       " 'expovariate',\n",
       " 'gammavariate',\n",
       " 'gauss',\n",
       " 'getrandbits',\n",
       " 'getstate',\n",
       " 'lognormvariate',\n",
       " 'normalvariate',\n",
       " 'paretovariate',\n",
       " 'randbytes',\n",
       " 'randint',\n",
       " 'random',\n",
       " 'randrange',\n",
       " 'sample',\n",
       " 'seed',\n",
       " 'setstate',\n",
       " 'shuffle',\n",
       " 'triangular',\n",
       " 'uniform',\n",
       " 'vonmisesvariate',\n",
       " 'weibullvariate']"
      ]
     },
     "execution_count": 6,
     "metadata": {},
     "output_type": "execute_result"
    }
   ],
   "source": [
    "dir(random)"
   ]
  },
  {
   "cell_type": "code",
   "execution_count": 9,
   "id": "e060f419-de13-4d8d-896b-cea5f47fdc63",
   "metadata": {},
   "outputs": [
    {
     "name": "stdin",
     "output_type": "stream",
     "text": [
      "[0] Guess:  50\n"
     ]
    },
    {
     "name": "stdout",
     "output_type": "stream",
     "text": [
      "Too low\n"
     ]
    },
    {
     "name": "stdin",
     "output_type": "stream",
     "text": [
      "[1] Guess:  75\n"
     ]
    },
    {
     "name": "stdout",
     "output_type": "stream",
     "text": [
      "Too low\n"
     ]
    },
    {
     "name": "stdin",
     "output_type": "stream",
     "text": [
      "[2] Guess:  90\n"
     ]
    },
    {
     "name": "stdout",
     "output_type": "stream",
     "text": [
      "Too high\n"
     ]
    },
    {
     "name": "stdin",
     "output_type": "stream",
     "text": [
      "[3] Guess:  80\n"
     ]
    },
    {
     "name": "stdout",
     "output_type": "stream",
     "text": [
      "Too low\n"
     ]
    },
    {
     "name": "stdin",
     "output_type": "stream",
     "text": [
      "[4] Guess:  85\n"
     ]
    },
    {
     "name": "stdout",
     "output_type": "stream",
     "text": [
      "Too low\n"
     ]
    },
    {
     "name": "stdin",
     "output_type": "stream",
     "text": [
      "[5] Guess:  87\n"
     ]
    },
    {
     "name": "stdout",
     "output_type": "stream",
     "text": [
      "Too low\n"
     ]
    },
    {
     "name": "stdin",
     "output_type": "stream",
     "text": [
      "[6] Guess:  89\n"
     ]
    },
    {
     "name": "stdout",
     "output_type": "stream",
     "text": [
      "You got it!\n"
     ]
    }
   ],
   "source": [
    "import random  \n",
    "\n",
    "number = random.randint(0, 100)\n",
    "guess_number = 0\n",
    "\n",
    "while True:\n",
    "    s = input(f'[{guess_number}] Guess: ').strip()\n",
    "    guess_number += 1\n",
    "\n",
    "    if not s.isdigit():\n",
    "        print('Enter a number!')\n",
    "        continue\n",
    "\n",
    "    guess = int(s)\n",
    "    if guess == number:\n",
    "        print('You got it!')\n",
    "        break\n",
    "    elif guess < number:\n",
    "        print('Too low')\n",
    "    else:\n",
    "        print('Too high')             \n",
    "              "
   ]
  },
  {
   "cell_type": "code",
   "execution_count": null,
   "id": "3bb682e5-8360-4d7b-b03e-c4a735e0f6ec",
   "metadata": {},
   "outputs": [],
   "source": [
    "# MM\n",
    "\n",
    "from random import randint\n",
    "\n",
    "random_number = randint(1, 10)\n",
    "\n",
    "chances = 5\n",
    "while chances > 0:\n",
    "    user_input = int(input(\"Guess a number from 1 to 10: \"))\n",
    "    if user_input == random_number:\n",
    "        print(\"You got it\")\n",
    "        break\n",
    "    elif user_input < random_number:\n",
    "        print(f\"Too low. Chances remaining {chances}\")\n",
    "        chances -= 1\n",
    "    else:\n",
    "        print(f\"Too high. Chances remaining {chances}\")\n",
    "        chances -= 1   "
   ]
  },
  {
   "cell_type": "code",
   "execution_count": null,
   "id": "3b458e40-e390-4bfe-8b68-8361198c7163",
   "metadata": {},
   "outputs": [],
   "source": [
    "# SK\n",
    "\n",
    "import random\n",
    "\n",
    "number = random.randint(0,100)\n",
    "\n",
    "while True:\n",
    "    guess = int(input('Guess the number'))\n",
    "    if guess < number:\n",
    "        print(f'{guess} is too low!')\n",
    "    elif guess > number:\n",
    "        print(f'{guess} is too high!')\n",
    "    elif guess == number:\n",
    "        print(f'You got it!')\n"
   ]
  },
  {
   "cell_type": "markdown",
   "id": "191b596f-d29d-47e7-9b91-afdab3454bd9",
   "metadata": {},
   "source": [
    "# What's in a module?\n",
    "\n",
    "We can find out what is in a module in a few different ways.\n",
    "\n",
    "1. We can run (in Jupyter or a debugger) the `dir` function on a module object. We'll get back a list of strings, the names of attributes on the module. This means variables, constants, classes, and functions that are defined. There's no way (without checking) to know what type of value is assigned to each of these names."
   ]
  },
  {
   "cell_type": "code",
   "execution_count": null,
   "id": "f11296da-4cdd-4ea1-80fd-b874ba20ec5a",
   "metadata": {},
   "outputs": [],
   "source": []
  }
 ],
 "metadata": {
  "kernelspec": {
   "display_name": "Python 3 (ipykernel)",
   "language": "python",
   "name": "python3"
  },
  "language_info": {
   "codemirror_mode": {
    "name": "ipython",
    "version": 3
   },
   "file_extension": ".py",
   "mimetype": "text/x-python",
   "name": "python",
   "nbconvert_exporter": "python",
   "pygments_lexer": "ipython3",
   "version": "3.12.1"
  }
 },
 "nbformat": 4,
 "nbformat_minor": 5
}
