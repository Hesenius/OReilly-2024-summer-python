{
 "cells": [
  {
   "cell_type": "markdown",
   "id": "cc4cdf9a-8b16-44ce-a7eb-7f8b67ab1705",
   "metadata": {},
   "source": [
    "# Agenda, week 5: Modules and packages\n",
    "\n",
    "1. What are modules?\n",
    "2. What modules can contain\n",
    "3. The different forms of `import`\n",
    "4. Developing our own module\n",
    "5. What happens when we import a module?\n",
    "6. Python's standard library\n",
    "7. Packages, PyPI, and `pip`\n",
    "8. What next?"
   ]
  },
  {
   "cell_type": "markdown",
   "id": "6309e0ce-cfe6-4d11-b615-6fa26e8e271b",
   "metadata": {},
   "source": [
    "# What are modules?\n",
    "\n",
    "DRY (don't repeat yourself) rule says: Only write code once, if you can.\n",
    "\n",
    "1. If we have several lines in a row that are roughly the same, then we can turn them into a loop.\n",
    "2. If we have the same code in several different places in our program, then we can use a function to write the code once and execute it multiple times.\n",
    "3. If we have the same code in several different *programs*, then we can put it in a *library*, and refer to it multiple times.\n",
    "\n",
    "In Python, we call our libraries \"modules\" and \"packages.\" A module actually does two things:\n",
    "\n",
    "1. It provides us with library functionality, so that we don't have to rewrite the same code or reinvent the wheel.\n",
    "2. It also provides us with namespacing, ensuring that we don't have namespace collisions, where variables collide.\n",
    "\n",
    "# What do modules contain?\n",
    "\n",
    "Any definitions we want:\n",
    "\n",
    "- Variables\n",
    "- Functions\n",
    "- New data types (\"classes\")\n",
    "\n",
    "Python doesn't really have constants, aka names that are permanently attached to values, but it's traditional to call variables with ALL CAPS NAMES \"constants,\" and to avoid resetting them. Many times, a module will contain one or more constants that we are welcome to use, but aren't supposed to modify.\n",
    "\n",
    "When you encounter a module, you should ask yourself what definitions it brings to the table. Usually, all of the functionality in a module will be related."
   ]
  },
  {
   "cell_type": "markdown",
   "id": "48e118b2-1b3f-4b0e-bff9-a1207d3d0785",
   "metadata": {},
   "source": [
    "# `import` is how we use modules\n",
    "\n",
    "In order to use a module, we use the `import` statement. It looks like this:\n",
    "\n",
    "    import random\n",
    "\n",
    "This means: I want to use the `random` module that comes with Python. Notice a few things about `import` that might surprise you if you come from other programming languages:\n",
    "\n",
    "1. `import` is *not* a function. Don't use parentheses.\n",
    "2. The argument that we give to `import` is the name of the module variable we want to define.\n",
    "3. We don't provide, in Python, the filename or path "
   ]
  },
  {
   "cell_type": "code",
   "execution_count": null,
   "id": "03ab7256-822e-422f-ab03-3c2c4fcce59c",
   "metadata": {},
   "outputs": [],
   "source": []
  }
 ],
 "metadata": {
  "kernelspec": {
   "display_name": "Python 3 (ipykernel)",
   "language": "python",
   "name": "python3"
  },
  "language_info": {
   "codemirror_mode": {
    "name": "ipython",
    "version": 3
   },
   "file_extension": ".py",
   "mimetype": "text/x-python",
   "name": "python",
   "nbconvert_exporter": "python",
   "pygments_lexer": "ipython3",
   "version": "3.12.1"
  }
 },
 "nbformat": 4,
 "nbformat_minor": 5
}
