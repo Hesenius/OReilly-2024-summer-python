{
 "cells": [
  {
   "cell_type": "markdown",
   "id": "c7754417-2ce3-4ce4-91d7-e114102acdbc",
   "metadata": {},
   "source": [
    "# Agenda, week 3\n",
    "\n",
    "0. Homework from last time + Q&A\n",
    "1. Dictionaries\n",
    "    - Creating dicts\n",
    "    - Retrieving from them\n",
    "    - Use cases (three paradigms for dict use)\n",
    "    - Iterating over them\n",
    "    - How are they implemented?\n",
    "2. Files (text files)\n",
    "    - Read from them\n",
    "    - Different ways to use them and work with them\n",
    "    - A little bit about writing to them, also"
   ]
  },
  {
   "cell_type": "markdown",
   "id": "fae39a79-b24a-4e6b-ad76-2a3fd35ca0be",
   "metadata": {},
   "source": [
    "# Homework!\n",
    "\n",
    "1. Implement vowels, digits, and others with three lists.\n",
    "2. The elements of each list will be the characters that you get from the user.\n",
    "3. Have the user enter text until they enter the empty string.\n",
    "4. When the user enters a non-empty string, the program should through it , one character at a time, and classify it as vowel/digit/other.\n",
    "5. The idea is that we'll have the three lists fill up with characters of the same type."
   ]
  },
  {
   "cell_type": "code",
   "execution_count": 1,
   "id": "bc098f59-ec50-4954-bbab-4403b539901e",
   "metadata": {},
   "outputs": [
    {
     "name": "stdin",
     "output_type": "stream",
     "text": [
      "Enter text:  hello out there! Is this day 1, 2, or 3 of the course?\n"
     ]
    },
    {
     "name": "stdout",
     "output_type": "stream",
     "text": [
      "vowels = ['e', 'o', 'o', 'u', 'e', 'e', 'i', 'a', 'o', 'o', 'e', 'o', 'u', 'e']\n",
      "digits = ['1', '2', '3']\n",
      "others = ['h', 'l', 'l', ' ', 't', ' ', 't', 'h', 'r', '!', ' ', 'I', 's', ' ', 't', 'h', 's', ' ', 'd', 'y', ' ', ',', ' ', ',', ' ', 'r', ' ', ' ', 'f', ' ', 't', 'h', ' ', 'c', 'r', 's', '?']\n"
     ]
    }
   ],
   "source": [
    "vowels = []\n",
    "digits = []\n",
    "others = []\n",
    "\n",
    "while True:\n",
    "    s = input('Enter text: ').strip()\n",
    "\n",
    "    if s == '':\n",
    "        break\n",
    "    \n",
    "    for one_character in s:\n",
    "        if one_character.isdigit():\n",
    "            digits.append(one_character)\n",
    "        elif one_character in 'aeiou':\n",
    "            vowels.append(one_character)\n",
    "        else:\n",
    "            others.append(one_character)\n",
    "\n",
    "print(f'vowels = {vowels}')\n",
    "print(f'digits = {digits}')\n",
    "print(f'others = {others}')\n"
   ]
  },
  {
   "cell_type": "code",
   "execution_count": null,
   "id": "7f9b1ef4-e017-450e-a807-7d4aa8b6e985",
   "metadata": {},
   "outputs": [],
   "source": []
  }
 ],
 "metadata": {
  "kernelspec": {
   "display_name": "Python 3 (ipykernel)",
   "language": "python",
   "name": "python3"
  },
  "language_info": {
   "codemirror_mode": {
    "name": "ipython",
    "version": 3
   },
   "file_extension": ".py",
   "mimetype": "text/x-python",
   "name": "python",
   "nbconvert_exporter": "python",
   "pygments_lexer": "ipython3",
   "version": "3.12.1"
  }
 },
 "nbformat": 4,
 "nbformat_minor": 5
}
