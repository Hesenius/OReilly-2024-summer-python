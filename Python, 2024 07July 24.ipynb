{
 "cells": [
  {
   "cell_type": "markdown",
   "id": "c7754417-2ce3-4ce4-91d7-e114102acdbc",
   "metadata": {},
   "source": [
    "# Agenda, week 3\n",
    "\n",
    "0. Homework from last time + Q&A\n",
    "1. Dictionaries\n",
    "    - Creating dicts\n",
    "    - Retrieving from them\n",
    "    - Use cases (three paradigms for dict use)\n",
    "    - Iterating over them\n",
    "    - How are they implemented?\n",
    "2. Files (text files)\n",
    "    - Read from them\n",
    "    - Different ways to use them and work with them\n",
    "    - A little bit about writing to them, also"
   ]
  },
  {
   "cell_type": "markdown",
   "id": "fae39a79-b24a-4e6b-ad76-2a3fd35ca0be",
   "metadata": {},
   "source": [
    "# Homework!\n",
    "\n",
    "1. Implement vowels, digits, and others with three lists.\n",
    "2. The elements of each list will be the characters that you get from the user.\n",
    "3. Have the user enter text until they enter the empty string.\n",
    "4. When the user enters a non-empty string, the program should through it , one character at a time, and classify it as vowel/digit/other.\n",
    "5. The idea is that we'll have the three lists fill up with characters of the same type."
   ]
  },
  {
   "cell_type": "code",
   "execution_count": 3,
   "id": "bc098f59-ec50-4954-bbab-4403b539901e",
   "metadata": {},
   "outputs": [
    {
     "name": "stdin",
     "output_type": "stream",
     "text": [
      "Enter text:  \n"
     ]
    },
    {
     "name": "stdout",
     "output_type": "stream",
     "text": [
      "vowels = []\n",
      "digits = []\n",
      "others = []\n"
     ]
    }
   ],
   "source": [
    "vowels = []\n",
    "digits = []\n",
    "others = []\n",
    "\n",
    "while True:\n",
    "    s = input('Enter text: ').strip()\n",
    "\n",
    "    if s == '':\n",
    "        break\n",
    "    \n",
    "    for one_character in s:\n",
    "        if one_character.isdigit():\n",
    "            digits.append(one_character)\n",
    "        elif one_character in 'aeiou':\n",
    "            vowels.append(one_character)\n",
    "        else:\n",
    "            others.append(one_character)\n",
    "\n",
    "print(f'vowels = {vowels}')\n",
    "print(f'digits = {digits}')\n",
    "print(f'others = {others}')\n"
   ]
  },
  {
   "cell_type": "code",
   "execution_count": 4,
   "id": "7f9b1ef4-e017-450e-a807-7d4aa8b6e985",
   "metadata": {},
   "outputs": [
    {
     "name": "stdin",
     "output_type": "stream",
     "text": [
      "Enter some text:  \n"
     ]
    },
    {
     "name": "stdout",
     "output_type": "stream",
     "text": [
      "The vowels entered are: []\n",
      "\n",
      "The digits entered are: []\n",
      "\n",
      "The other characters entered are []\n",
      "\n"
     ]
    }
   ],
   "source": [
    "# BD\n",
    "vowels = []\n",
    "digits = []\n",
    "others = []\n",
    "\n",
    "userInput = input('Enter some text: ').strip()\n",
    "\n",
    "while userInput != '':\n",
    "  if userInput != '':\n",
    "    for item in userInput:\n",
    "      if item.isdigit():\n",
    "        digits += item\n",
    "      elif item in 'aeiou':\n",
    "        vowels += item\n",
    "      else: \n",
    "        others += item\n",
    "  userInput = input('Enter some text: ').strip()\n",
    "\n",
    "print(f'The vowels entered are: {vowels}\\n')\n",
    "print(f'The digits entered are: {digits}\\n')\n",
    "print(f'The other characters entered are {others}\\n')\n"
   ]
  },
  {
   "cell_type": "code",
   "execution_count": 6,
   "id": "de0307af-f70d-4c9a-b682-6f2489f90707",
   "metadata": {},
   "outputs": [
    {
     "name": "stdin",
     "output_type": "stream",
     "text": [
      "Enter some text:  asdfa\n",
      "Enter some text:  12341\n",
      "Enter some text:  '#$%@#\n",
      "Enter some text:  \n"
     ]
    },
    {
     "name": "stdout",
     "output_type": "stream",
     "text": [
      "The vowels entered are: ['a', 'a']\n",
      "\n",
      "The digits entered are: ['1', '2', '3', '4', '1']\n",
      "\n",
      "The other characters entered are ['s', 'd', 'f', \"'\", '#', '$', '%', '@', '#']\n",
      "\n"
     ]
    }
   ],
   "source": [
    "# walrus operator is the \"assignment expression\" operator, and allows you to both assign and get a value back\n",
    "# the operator is colon-equal, aka :=\n",
    "\n",
    "vowels = []\n",
    "digits = []\n",
    "others = []\n",
    "\n",
    "while userInput := input('Enter some text: ').strip():\n",
    "  if userInput != '':\n",
    "    for item in userInput:\n",
    "      if item.isdigit():\n",
    "        digits += item\n",
    "      elif item in 'aeiou':\n",
    "        vowels += item\n",
    "      else: \n",
    "        others += item\n",
    "\n",
    "print(f'The vowels entered are: {vowels}\\n')\n",
    "print(f'The digits entered are: {digits}\\n')\n",
    "print(f'The other characters entered are {others}\\n')\n"
   ]
  },
  {
   "cell_type": "markdown",
   "id": "a6196152-85c0-4acd-8847-c4d21599385d",
   "metadata": {},
   "source": [
    "# Dictionaries (aka dicts)\n",
    "\n",
    "Dicts aren't unique to Python. They exist in *many* other programming languages, but usually with a different name:\n",
    "\n",
    "- Hash tables\n",
    "- Hashes\n",
    "- Hash maps\n",
    "- Maps\n",
    "- Associative arrays\n",
    "- Key-value stores\n",
    "- Name-value stores\n",
    "\n",
    "The idea of a dict is that of a name-value store: We have *pairs* of values, not just individual values. Each pair has a key and a value:\n",
    "\n",
    "- Every key in a dict has a value.\n",
    "- Every value in a dict has a key.\n",
    "- The keys can be any immutable type, aka numbers or strings.\n",
    "- The keys cannot repeat themselves.\n",
    "- The values can be anything you want, without exception, in Python. (They can repeat, too.)\n",
    "\n",
    "In some ways, you can think of a dict as a list in which we get to determine the index as well as the value.\n",
    "\n",
    "It turns out that *many* problems lend themselves to two-column tables."
   ]
  }
 ],
 "metadata": {
  "kernelspec": {
   "display_name": "Python 3 (ipykernel)",
   "language": "python",
   "name": "python3"
  },
  "language_info": {
   "codemirror_mode": {
    "name": "ipython",
    "version": 3
   },
   "file_extension": ".py",
   "mimetype": "text/x-python",
   "name": "python",
   "nbconvert_exporter": "python",
   "pygments_lexer": "ipython3",
   "version": "3.12.1"
  }
 },
 "nbformat": 4,
 "nbformat_minor": 5
}
