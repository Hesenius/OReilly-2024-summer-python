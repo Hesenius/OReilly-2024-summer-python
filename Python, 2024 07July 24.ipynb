{
 "cells": [
  {
   "cell_type": "markdown",
   "id": "c7754417-2ce3-4ce4-91d7-e114102acdbc",
   "metadata": {},
   "source": [
    "# Agenda, week 3\n",
    "\n",
    "0. Homework from last time + Q&A\n",
    "1. Dictionaries\n",
    "    - Creating dicts\n",
    "    - Retrieving from them\n",
    "    - Use cases (three paradigms for dict use)\n",
    "    - Iterating over them\n",
    "    - How are they implemented?\n",
    "2. Files (text files)\n",
    "    - Read from them\n",
    "    - Different ways to use them and work with them\n",
    "    - A little bit about writing to them, also"
   ]
  },
  {
   "cell_type": "markdown",
   "id": "fae39a79-b24a-4e6b-ad76-2a3fd35ca0be",
   "metadata": {},
   "source": [
    "# Homework!\n",
    "\n",
    "1. Implement vowels, digits, and others with three lists.\n",
    "2. The elements of each list will be the characters that you get from the user.\n",
    "3. Have the user enter text until they enter the empty string.\n",
    "4. When the user enters a non-empty string, the program should through it , one character at a time, and classify it as vowel/digit/other.\n",
    "5. The idea is that we'll have the three lists fill up with characters of the same type."
   ]
  },
  {
   "cell_type": "code",
   "execution_count": 3,
   "id": "bc098f59-ec50-4954-bbab-4403b539901e",
   "metadata": {},
   "outputs": [
    {
     "name": "stdin",
     "output_type": "stream",
     "text": [
      "Enter text:  \n"
     ]
    },
    {
     "name": "stdout",
     "output_type": "stream",
     "text": [
      "vowels = []\n",
      "digits = []\n",
      "others = []\n"
     ]
    }
   ],
   "source": [
    "vowels = []\n",
    "digits = []\n",
    "others = []\n",
    "\n",
    "while True:\n",
    "    s = input('Enter text: ').strip()\n",
    "\n",
    "    if s == '':\n",
    "        break\n",
    "    \n",
    "    for one_character in s:\n",
    "        if one_character.isdigit():\n",
    "            digits.append(one_character)\n",
    "        elif one_character in 'aeiou':\n",
    "            vowels.append(one_character)\n",
    "        else:\n",
    "            others.append(one_character)\n",
    "\n",
    "print(f'vowels = {vowels}')\n",
    "print(f'digits = {digits}')\n",
    "print(f'others = {others}')\n"
   ]
  },
  {
   "cell_type": "code",
   "execution_count": 4,
   "id": "7f9b1ef4-e017-450e-a807-7d4aa8b6e985",
   "metadata": {},
   "outputs": [
    {
     "name": "stdin",
     "output_type": "stream",
     "text": [
      "Enter some text:  \n"
     ]
    },
    {
     "name": "stdout",
     "output_type": "stream",
     "text": [
      "The vowels entered are: []\n",
      "\n",
      "The digits entered are: []\n",
      "\n",
      "The other characters entered are []\n",
      "\n"
     ]
    }
   ],
   "source": [
    "# BD\n",
    "vowels = []\n",
    "digits = []\n",
    "others = []\n",
    "\n",
    "userInput = input('Enter some text: ').strip()\n",
    "\n",
    "while userInput != '':\n",
    "  if userInput != '':\n",
    "    for item in userInput:\n",
    "      if item.isdigit():\n",
    "        digits += item\n",
    "      elif item in 'aeiou':\n",
    "        vowels += item\n",
    "      else: \n",
    "        others += item\n",
    "  userInput = input('Enter some text: ').strip()\n",
    "\n",
    "print(f'The vowels entered are: {vowels}\\n')\n",
    "print(f'The digits entered are: {digits}\\n')\n",
    "print(f'The other characters entered are {others}\\n')\n"
   ]
  },
  {
   "cell_type": "code",
   "execution_count": 6,
   "id": "de0307af-f70d-4c9a-b682-6f2489f90707",
   "metadata": {},
   "outputs": [
    {
     "name": "stdin",
     "output_type": "stream",
     "text": [
      "Enter some text:  asdfa\n",
      "Enter some text:  12341\n",
      "Enter some text:  '#$%@#\n",
      "Enter some text:  \n"
     ]
    },
    {
     "name": "stdout",
     "output_type": "stream",
     "text": [
      "The vowels entered are: ['a', 'a']\n",
      "\n",
      "The digits entered are: ['1', '2', '3', '4', '1']\n",
      "\n",
      "The other characters entered are ['s', 'd', 'f', \"'\", '#', '$', '%', '@', '#']\n",
      "\n"
     ]
    }
   ],
   "source": [
    "# walrus operator is the \"assignment expression\" operator, and allows you to both assign and get a value back\n",
    "# the operator is colon-equal, aka :=\n",
    "\n",
    "vowels = []\n",
    "digits = []\n",
    "others = []\n",
    "\n",
    "while userInput := input('Enter some text: ').strip():\n",
    "  if userInput != '':\n",
    "    for item in userInput:\n",
    "      if item.isdigit():\n",
    "        digits += item\n",
    "      elif item in 'aeiou':\n",
    "        vowels += item\n",
    "      else: \n",
    "        others += item\n",
    "\n",
    "print(f'The vowels entered are: {vowels}\\n')\n",
    "print(f'The digits entered are: {digits}\\n')\n",
    "print(f'The other characters entered are {others}\\n')\n"
   ]
  },
  {
   "cell_type": "markdown",
   "id": "a6196152-85c0-4acd-8847-c4d21599385d",
   "metadata": {},
   "source": [
    "# Dictionaries (aka dicts)\n",
    "\n",
    "Dicts aren't unique to Python. They exist in *many* other programming languages, but usually with a different name:\n",
    "\n",
    "- Hash tables\n",
    "- Hashes\n",
    "- Hash maps\n",
    "- Maps\n",
    "- Associative arrays\n",
    "- Key-value stores\n",
    "- Name-value stores\n",
    "\n",
    "The idea of a dict is that of a name-value store: We have *pairs* of values, not just individual values. Each pair has a key and a value:\n",
    "\n",
    "- Every key in a dict has a value.\n",
    "- Every value in a dict has a key.\n",
    "- The keys can be any immutable type, aka numbers or strings.\n",
    "- The keys cannot repeat themselves.\n",
    "- The values can be anything you want, without exception, in Python. (They can repeat, too.)\n",
    "\n",
    "In some ways, you can think of a dict as a list in which we get to determine the index as well as the value.\n",
    "\n",
    "It turns out that *many* problems lend themselves to two-column tables, like a dict.\n",
    "\n",
    "As much as *we* use dicts in Python, the language itself uses them a lot, as well.\n",
    "\n",
    "To define a dict:\n",
    "\n",
    "- Use `{}`\n",
    "- You enter each key-value pair as `key:value`.\n",
    "- Pairs are separated from one another with commas.\n",
    "\n",
    "Examples:\n",
    "- Empty dict is `{}`\n",
    "- A small dict is `{'a':10}`\n",
    "- A larger one is `{'first':'Reuven', 'last':'Lerner', 'email':'reuven@lerner.co.il'}`"
   ]
  },
  {
   "cell_type": "code",
   "execution_count": 7,
   "id": "5903884b-ab0c-4626-9680-742142272f82",
   "metadata": {},
   "outputs": [
    {
     "data": {
      "text/plain": [
       "3"
      ]
     },
     "execution_count": 7,
     "metadata": {},
     "output_type": "execute_result"
    }
   ],
   "source": [
    "# the length of a dict is the number of pairs\n",
    "\n",
    "d = {'a':10, 'b':20, 'c':30}\n",
    "\n",
    "len(d)"
   ]
  },
  {
   "cell_type": "code",
   "execution_count": 8,
   "id": "bd4a4924-fed2-4822-a7a5-84530c44cefe",
   "metadata": {},
   "outputs": [
    {
     "data": {
      "text/plain": [
       "10"
      ]
     },
     "execution_count": 8,
     "metadata": {},
     "output_type": "execute_result"
    }
   ],
   "source": [
    "# I can retrieve a value by putting its key in []\n",
    "d['a']"
   ]
  },
  {
   "cell_type": "code",
   "execution_count": 9,
   "id": "b8504c7d-675d-47a9-9c23-10157732fd27",
   "metadata": {},
   "outputs": [
    {
     "data": {
      "text/plain": [
       "20"
      ]
     },
     "execution_count": 9,
     "metadata": {},
     "output_type": "execute_result"
    }
   ],
   "source": [
    "d['b']"
   ]
  },
  {
   "cell_type": "code",
   "execution_count": 10,
   "id": "43bc5ba5-5e4f-49ea-b929-e5a03641e33c",
   "metadata": {},
   "outputs": [
    {
     "data": {
      "text/plain": [
       "30"
      ]
     },
     "execution_count": 10,
     "metadata": {},
     "output_type": "execute_result"
    }
   ],
   "source": [
    "d['c']"
   ]
  },
  {
   "cell_type": "code",
   "execution_count": 11,
   "id": "188fc01b-2ed5-44f9-8f95-953d42b16b0f",
   "metadata": {},
   "outputs": [
    {
     "ename": "KeyError",
     "evalue": "'q'",
     "output_type": "error",
     "traceback": [
      "\u001b[0;31m---------------------------------------------------------------------------\u001b[0m",
      "\u001b[0;31mKeyError\u001b[0m                                  Traceback (most recent call last)",
      "Cell \u001b[0;32mIn[11], line 1\u001b[0m\n\u001b[0;32m----> 1\u001b[0m \u001b[43md\u001b[49m\u001b[43m[\u001b[49m\u001b[38;5;124;43m'\u001b[39;49m\u001b[38;5;124;43mq\u001b[39;49m\u001b[38;5;124;43m'\u001b[39;49m\u001b[43m]\u001b[49m   \u001b[38;5;66;03m# this key doesn't exist\u001b[39;00m\n",
      "\u001b[0;31mKeyError\u001b[0m: 'q'"
     ]
    }
   ],
   "source": [
    "d['q']   # this key doesn't exist"
   ]
  },
  {
   "cell_type": "code",
   "execution_count": 12,
   "id": "8acaa1e5-b77d-4cb2-a2f9-757e63ddad2b",
   "metadata": {},
   "outputs": [
    {
     "data": {
      "text/plain": [
       "True"
      ]
     },
     "execution_count": 12,
     "metadata": {},
     "output_type": "execute_result"
    }
   ],
   "source": [
    "# to avoid problems, we can check first to see if a key is in the dict\n",
    "# to do this, we use the \"in\" operator\n",
    "# Note that \"in\" only checks on the dict keys, not the values!\n",
    "\n",
    "'a' in d"
   ]
  },
  {
   "cell_type": "code",
   "execution_count": 13,
   "id": "e537e728-69ed-4871-8931-58949eacae9f",
   "metadata": {},
   "outputs": [
    {
     "data": {
      "text/plain": [
       "False"
      ]
     },
     "execution_count": 13,
     "metadata": {},
     "output_type": "execute_result"
    }
   ],
   "source": [
    "'q' in d"
   ]
  },
  {
   "cell_type": "code",
   "execution_count": 14,
   "id": "4fa53806-2f5f-4d41-b293-4a41c3a0f720",
   "metadata": {},
   "outputs": [
    {
     "data": {
      "text/plain": [
       "False"
      ]
     },
     "execution_count": 14,
     "metadata": {},
     "output_type": "execute_result"
    }
   ],
   "source": [
    "10 in d"
   ]
  },
  {
   "cell_type": "markdown",
   "id": "6f652e3a-5a6a-4ff0-8426-1216c0949723",
   "metadata": {},
   "source": [
    "# Exercise: Restaurant\n",
    "\n",
    "1. Define a dict, `menu`, in which the keys are strings, items on a restaurant menu. The values are integers, the prices of those items on the menu.\n",
    "2. Set `total` to be 0.\n",
    "3. Ask the user, repeatedly, to order something from the menu. (You don't need to display it.)\n",
    "    - If the user enters an empty string, stop asking and print the total\n",
    "    - If the user enters something that is on the menu, then print the item, price, and new total.\n",
    "    - If the user enters something *NOT* on the menu, then scold them appropriately.\n",
    "4. Print the total.\n",
    "\n",
    "Example:\n",
    "\n",
    "    Order: sandwich\n",
    "    sandwich is 15, total is 15\n",
    "    Order: tea\n",
    "    tea is 8, total is 23\n",
    "    Order: elephant\n",
    "    we're out of elephant today, I'm afraid\n",
    "    Order: [ENTER]\n",
    "    total is 23"
   ]
  },
  {
   "cell_type": "code",
   "execution_count": 15,
   "id": "13629f5d-155d-4302-b7aa-b9950d44e849",
   "metadata": {},
   "outputs": [
    {
     "data": {
      "text/plain": [
       "15"
      ]
     },
     "execution_count": 15,
     "metadata": {},
     "output_type": "execute_result"
    }
   ],
   "source": [
    "menu = {'sandwich':15, 'tea':8, 'apple':3, 'cake':12}\n",
    "\n",
    "menu['sandwich']"
   ]
  },
  {
   "cell_type": "code",
   "execution_count": 16,
   "id": "93a9371f-27ae-40ef-83a7-4550cc91c99d",
   "metadata": {},
   "outputs": [
    {
     "data": {
      "text/plain": [
       "15"
      ]
     },
     "execution_count": 16,
     "metadata": {},
     "output_type": "execute_result"
    }
   ],
   "source": [
    "order = 'sandwich'\n",
    "menu[order]"
   ]
  },
  {
   "cell_type": "code",
   "execution_count": 17,
   "id": "a5d3ff29-644f-44c3-85c1-bf8283e8644a",
   "metadata": {},
   "outputs": [
    {
     "name": "stdin",
     "output_type": "stream",
     "text": [
      "Order:  sandwich\n"
     ]
    },
    {
     "name": "stdout",
     "output_type": "stream",
     "text": [
      "sandwich is 15; total is now 15\n"
     ]
    },
    {
     "name": "stdin",
     "output_type": "stream",
     "text": [
      "Order:  tea\n"
     ]
    },
    {
     "name": "stdout",
     "output_type": "stream",
     "text": [
      "tea is 8; total is now 23\n"
     ]
    },
    {
     "name": "stdin",
     "output_type": "stream",
     "text": [
      "Order:  cherry pie\n"
     ]
    },
    {
     "name": "stdout",
     "output_type": "stream",
     "text": [
      "Sorry, we are out of cherry pie today!\n"
     ]
    },
    {
     "name": "stdin",
     "output_type": "stream",
     "text": [
      "Order:  apple\n"
     ]
    },
    {
     "name": "stdout",
     "output_type": "stream",
     "text": [
      "apple is 3; total is now 26\n"
     ]
    },
    {
     "name": "stdin",
     "output_type": "stream",
     "text": [
      "Order:  \n"
     ]
    },
    {
     "name": "stdout",
     "output_type": "stream",
     "text": [
      "Total is 26\n"
     ]
    }
   ],
   "source": [
    "menu = {'sandwich':15, 'tea':8, 'apple':3, 'cake':12}\n",
    "total = 0\n",
    "\n",
    "while True:\n",
    "    s = input('Order: ').strip()\n",
    "\n",
    "    if s == '':\n",
    "        break     # got an empty string? exit the loop!\n",
    "\n",
    "    # is the person's requested order a key in the menu? Check with \"in\"\n",
    "    if s in menu:\n",
    "        price = menu[s]   # get the price\n",
    "        total += price\n",
    "        print(f'{s} is {price}; total is now {total}')\n",
    "    else:\n",
    "        print(f'Sorry, we are out of {s} today!')\n",
    "\n",
    "print(f'Total is {total}')"
   ]
  },
  {
   "cell_type": "code",
   "execution_count": 20,
   "id": "6fc6f468-5dd7-4c56-b898-742f42322d22",
   "metadata": {},
   "outputs": [
    {
     "name": "stdin",
     "output_type": "stream",
     "text": [
      "Menu: sandwich and tea, which would you like:  sandwich\n",
      "Menu: sandwich and tea, which would you like:  apple\n",
      "Menu: sandwich and tea, which would you like:  nothing\n",
      "Menu: sandwich and tea, which would you like:  \n"
     ]
    }
   ],
   "source": [
    "# MM\n",
    "\n",
    "menu = {\n",
    "    \"sandwich\": 15,\n",
    "    \"tea\": 8,\n",
    "    \"apple\": 3\n",
    "}\n",
    "user_order = []\n",
    "\n",
    "while True:\n",
    "    user_input = input(\"Menu: sandwich and tea, which would you like: \")\n",
    "    if user_input == '':\n",
    "        break\n",
    "    if user_input in menu:   # this means that user_input is a key in the menu dict\n",
    "        user_order.append(menu[user_input])   # use the key to retrieve the value (i.e., the price)\n",
    "    if user_input == 'finish':\n",
    "        print(f\"The total is {user_order}\")\n",
    "       "
   ]
  },
  {
   "cell_type": "code",
   "execution_count": 21,
   "id": "6c883988-d289-49b1-b126-235de4398bba",
   "metadata": {},
   "outputs": [
    {
     "data": {
      "text/plain": [
       "[15, 3]"
      ]
     },
     "execution_count": 21,
     "metadata": {},
     "output_type": "execute_result"
    }
   ],
   "source": [
    "user_order"
   ]
  },
  {
   "cell_type": "code",
   "execution_count": 22,
   "id": "021fbcf7-6167-4252-9422-ece9cb23de03",
   "metadata": {},
   "outputs": [
    {
     "data": {
      "text/plain": [
       "18"
      ]
     },
     "execution_count": 22,
     "metadata": {},
     "output_type": "execute_result"
    }
   ],
   "source": [
    "# how can I sum those up?\n",
    "# (1) for loop\n",
    "total = 0\n",
    "\n",
    "for one_price in user_order:\n",
    "    total += one_price\n",
    "\n",
    "total"
   ]
  },
  {
   "cell_type": "code",
   "execution_count": 23,
   "id": "ffc01ca8-317b-40f7-9914-f594169511f7",
   "metadata": {},
   "outputs": [
    {
     "data": {
      "text/plain": [
       "18"
      ]
     },
     "execution_count": 23,
     "metadata": {},
     "output_type": "execute_result"
    }
   ],
   "source": [
    "# option (2) Use the builtin \"sum\" function in Python\n",
    "\n",
    "sum(user_order)"
   ]
  },
  {
   "cell_type": "markdown",
   "id": "716ea8c0-3922-4f8d-8e31-f8b47f2a6e72",
   "metadata": {},
   "source": [
    "# Mutable or immutable?\n",
    "\n",
    "We've talked a lot about what data types in Python are mutable vs. those that are immutable:\n",
    "\n",
    "- Immutable (we cannot change the value once it's created): Numbers, strings, tuples\n",
    "- Mutable (we *can* change the value after it's created): Lists\n",
    "\n",
    "Dictionaries are mutable! We can add to them, remove from them, and update them."
   ]
  },
  {
   "cell_type": "code",
   "execution_count": 24,
   "id": "30ba735a-ad6b-4922-be27-c2e42a847a7d",
   "metadata": {},
   "outputs": [
    {
     "data": {
      "text/plain": [
       "{'a': 999, 'b': 20, 'c': 30}"
      ]
     },
     "execution_count": 24,
     "metadata": {},
     "output_type": "execute_result"
    }
   ],
   "source": [
    "d = {'a':10, 'b':20, 'c':30}\n",
    "\n",
    "# to update an existing value, just assign to the key\n",
    "d['a'] = 999\n",
    "\n",
    "d"
   ]
  },
  {
   "cell_type": "code",
   "execution_count": 25,
   "id": "28acdb66-bb16-4057-a310-74ef2e012518",
   "metadata": {},
   "outputs": [
    {
     "data": {
      "text/plain": [
       "{'a': 999, 'b': 20, 'c': 30, 'x': 888}"
      ]
     },
     "execution_count": 25,
     "metadata": {},
     "output_type": "execute_result"
    }
   ],
   "source": [
    "# how can we add a new key-value pair to our dict?\n",
    "# in a list, we use the \"append\" method\n",
    "# but in a dict, we use... assignment, JUST LIKE UPDATING A VALUE\n",
    "\n",
    "d['x'] = 888\n",
    "d"
   ]
  },
  {
   "cell_type": "code",
   "execution_count": 26,
   "id": "cdb1d06a-687c-4e79-9da8-31a287a33b29",
   "metadata": {},
   "outputs": [
    {
     "data": {
      "text/plain": [
       "{'yes': 11, 'no': 5}"
      ]
     },
     "execution_count": 26,
     "metadata": {},
     "output_type": "execute_result"
    }
   ],
   "source": [
    "votes = {'yes':0, 'no':0}\n",
    "\n",
    "votes['yes'] += 1\n",
    "votes['no'] += 5\n",
    "votes['yes'] += 10\n",
    "\n",
    "votes"
   ]
  },
  {
   "cell_type": "code",
   "execution_count": 27,
   "id": "355573a0-9144-4a68-ba0d-d37e9a6f79b1",
   "metadata": {},
   "outputs": [
    {
     "data": {
      "text/plain": [
       "{'a': 999, 'b': 20, 'c': 30, 'x': 888}"
      ]
     },
     "execution_count": 27,
     "metadata": {},
     "output_type": "execute_result"
    }
   ],
   "source": [
    "# what about removing items from a dict?\n",
    "# we can use the \"pop\" method, which takes a key as an argument\n",
    "# the key-value pair is removed, and the value is returned\n",
    "\n",
    "d"
   ]
  },
  {
   "cell_type": "code",
   "execution_count": 28,
   "id": "2db0c41e-3c66-4d29-a37a-1f970c9ba625",
   "metadata": {},
   "outputs": [
    {
     "data": {
      "text/plain": [
       "888"
      ]
     },
     "execution_count": 28,
     "metadata": {},
     "output_type": "execute_result"
    }
   ],
   "source": [
    "d.pop('x')"
   ]
  },
  {
   "cell_type": "code",
   "execution_count": 29,
   "id": "2cbb49a9-e9b3-474a-b730-6b90c17a1c07",
   "metadata": {},
   "outputs": [
    {
     "data": {
      "text/plain": [
       "{'a': 999, 'b': 20, 'c': 30}"
      ]
     },
     "execution_count": 29,
     "metadata": {},
     "output_type": "execute_result"
    }
   ],
   "source": [
    "d"
   ]
  },
  {
   "cell_type": "code",
   "execution_count": 30,
   "id": "fafb7f9c-b95e-4a03-aad5-89eea31fd322",
   "metadata": {},
   "outputs": [
    {
     "name": "stdin",
     "output_type": "stream",
     "text": [
      "Enter a key:  a\n"
     ]
    },
    {
     "name": "stdout",
     "output_type": "stream",
     "text": [
      "10\n"
     ]
    },
    {
     "name": "stdin",
     "output_type": "stream",
     "text": [
      "Enter a key:  abcd\n"
     ]
    },
    {
     "name": "stdout",
     "output_type": "stream",
     "text": [
      "abcd is not a key in d\n"
     ]
    },
    {
     "name": "stdin",
     "output_type": "stream",
     "text": [
      "Enter a key:  \n"
     ]
    }
   ],
   "source": [
    "d = {'a':10, 'b':20, 'c':30}\n",
    "\n",
    "while True:\n",
    "    k = input('Enter a key: ').strip()\n",
    "\n",
    "    if k == '':\n",
    "        break\n",
    "\n",
    "    if k in d:  # if k is a key in d, then print the value\n",
    "        print(d[k])\n",
    "    else:\n",
    "        print(f'{k} is not a key in d')"
   ]
  },
  {
   "cell_type": "markdown",
   "id": "fd392d96-a45c-40bf-afab-b623ccc05d3c",
   "metadata": {},
   "source": [
    "# Accumulating in dicts\n",
    "\n",
    "One of the main paradigms we can use with dicts is to accumulate with them. That is: We don't add or remove keys, but we do update the values based on what we see.  We'll basically use our dict to keep a number of different tallies.\n",
    "\n"
   ]
  },
  {
   "cell_type": "code",
   "execution_count": 31,
   "id": "63887153-d661-43d9-b6f8-95c81e1dce75",
   "metadata": {},
   "outputs": [
    {
     "name": "stdin",
     "output_type": "stream",
     "text": [
      "Enter a number:  10\n",
      "Enter a number:  15\n",
      "Enter a number:  17\n",
      "Enter a number:  21\n",
      "Enter a number:  20\n",
      "Enter a number:  \n"
     ]
    },
    {
     "name": "stdout",
     "output_type": "stream",
     "text": [
      "{'evens': 2, 'odds': 3}\n"
     ]
    }
   ],
   "source": [
    "counts = {'evens':0, 'odds':0}\n",
    "\n",
    "# I'll ask the user to enter a number\n",
    "# each time I get a number, I\"ll check if it's odd or even\n",
    "# then I'll update the appropriate counter\n",
    "\n",
    "while True:\n",
    "    s = input('Enter a number: ').strip()\n",
    "\n",
    "    if s == '':\n",
    "        break\n",
    "\n",
    "    if not s.isdigit():\n",
    "        print(f'{s} is not numeric; try again!')\n",
    "        continue\n",
    "\n",
    "    n = int(s)\n",
    "\n",
    "    if n % 2 == 1:\n",
    "        counts['odds'] += 1\n",
    "    else:\n",
    "        counts['evens'] += 1\n",
    "\n",
    "print(counts)"
   ]
  },
  {
   "cell_type": "markdown",
   "id": "1f66f44a-eeef-4823-b229-d81d4139c45f",
   "metadata": {},
   "source": [
    "# Exercise: Vowels, digits, and others (dict edition)\n",
    "\n",
    "1. Ask the user, repeatedly, to enter a string.\n",
    "2. Stop asking when you get the empty string.\n",
    "3. You'll accumulate (counts) in a dict which has three keys: `vowels`, `digits`, and `others`, all starting with a value of 0.\n",
    "4. When you get the user's empty string, print the dict.\n",
    "\n",
    "Example:\n",
    "\n",
    "    Enter text: hello!\n",
    "    Enter text: 123\n",
    "    Enter text: huh?\n",
    "    Enter text: [ENTER]\n",
    "\n",
    "    {'vowels': 3,\n",
    "     'digits': 3,\n",
    "     'others': 7}\n"
   ]
  },
  {
   "cell_type": "code",
   "execution_count": null,
   "id": "75950402-e21f-437e-b114-13b4b90728db",
   "metadata": {},
   "outputs": [],
   "source": []
  }
 ],
 "metadata": {
  "kernelspec": {
   "display_name": "Python 3 (ipykernel)",
   "language": "python",
   "name": "python3"
  },
  "language_info": {
   "codemirror_mode": {
    "name": "ipython",
    "version": 3
   },
   "file_extension": ".py",
   "mimetype": "text/x-python",
   "name": "python",
   "nbconvert_exporter": "python",
   "pygments_lexer": "ipython3",
   "version": "3.12.1"
  }
 },
 "nbformat": 4,
 "nbformat_minor": 5
}
