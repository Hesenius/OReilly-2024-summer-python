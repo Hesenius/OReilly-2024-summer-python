{
 "cells": [
  {
   "cell_type": "markdown",
   "metadata": {},
   "source": [
    "# Agenda\n",
    "\n",
    "1. Basic Python fundamentals\n",
    "    - Values and variables\n",
    "    - Display values and get input from the user\n",
    "    - Assignment\n",
    "    - Comparison\n",
    "    - Conditional code\n",
    "    - Numbers (integers and floats)\n",
    "    - Strings (text)\n",
    "    - Methods (functionality we can run on an object)\n",
    "2. Loops, lists, and tuples\n",
    "    - Repeat functionality with a loop (`for` and `while`)\n",
    "    - Using lists -- how are they different from strings, and how are they the same?\n",
    "    - Tuples -- another data structure that's similar to strings and lists (\"sequence\")\n",
    "    - Tuple unpacking\n",
    "3. Dictionaries and files\n",
    "    - Creating and working with dicts\n",
    "    - Different paradigms for using dicts\n",
    "    - Read from files\n",
    "    - (A little) writing to files\n",
    "4. Functions\n",
    "    - Write functions\n",
    "    - Function bodies\n",
    "    - Arguments and parameters\n",
    "    - Return values\n",
    "5. Modules and packages\n",
    "    - How can we use modules in Python?\n",
    "    - How can write our own modules?\n",
    "    - PyPI (the Python Package Index)\n",
    "    - `pip`"
   ]
  },
  {
   "cell_type": "markdown",
   "metadata": {},
   "source": [
    "# What is a programming language? What is Python?\n",
    "\n",
    "A program is a set of instructions, telling the computer what to do. In the end, it's just a bunch of 1s and 0s. In order to write programs and keep track of them and debug them easily, we write in programming languages, which are then translated into 1s and 0s. (This process is sometimes known as interpretation and sometimes compilation.)\n",
    "\n",
    "Python is a high-level language.\n",
    "\n",
    "Python has been around for more than 30 years. It's now super super popular. Why? Python is a perfect language for an age in which people are expensive and computers are cheap. If we can increase the person's productivity in writing code, then that's worth having to pay more for computers.\n",
    "\n",
    "Python is popular in a wide variety of areas:\n",
    "- Data science and machine learning (#1)\n",
    "- Web development\n",
    "- Devops and system administration\n",
    "- Automated testing\n",
    "- Education\n",
    "\n",
    "Python is super consistent -- once you learn something in the language, you can use it forever.\n",
    "\n",
    "I sometimes call Python the Esperanto of programming languages, because it is so consistent."
   ]
  },
  {
   "cell_type": "code",
   "execution_count": null,
   "metadata": {},
   "outputs": [],
   "source": []
  }
 ],
 "metadata": {
  "kernelspec": {
   "display_name": "Python 3 (ipykernel)",
   "language": "python",
   "name": "python3"
  },
  "language_info": {
   "codemirror_mode": {
    "name": "ipython",
    "version": 3
   },
   "file_extension": ".py",
   "mimetype": "text/x-python",
   "name": "python",
   "nbconvert_exporter": "python",
   "pygments_lexer": "ipython3",
   "version": "3.12.1"
  }
 },
 "nbformat": 4,
 "nbformat_minor": 4
}
