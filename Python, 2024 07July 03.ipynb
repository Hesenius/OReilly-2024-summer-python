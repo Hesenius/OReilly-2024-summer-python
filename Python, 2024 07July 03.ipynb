{
 "cells": [
  {
   "cell_type": "markdown",
   "metadata": {},
   "source": [
    "# Agenda\n",
    "\n",
    "1. Basic Python fundamentals\n",
    "    - Values and variables\n",
    "    - Display values and get input from the user\n",
    "    - Assignment\n",
    "    - Comparison\n",
    "    - Conditional code\n",
    "    - Numbers (integers and floats)\n",
    "    - Strings (text)\n",
    "    - Methods (functionality we can run on an object)\n",
    "2. Loops, lists, and tuples\n",
    "    - Repeat functionality with a loop (`for` and `while`)\n",
    "    - Using l"
   ]
  },
  {
   "cell_type": "code",
   "execution_count": null,
   "metadata": {},
   "outputs": [],
   "source": []
  }
 ],
 "metadata": {
  "kernelspec": {
   "display_name": "Python 3 (ipykernel)",
   "language": "python",
   "name": "python3"
  },
  "language_info": {
   "codemirror_mode": {
    "name": "ipython",
    "version": 3
   },
   "file_extension": ".py",
   "mimetype": "text/x-python",
   "name": "python",
   "nbconvert_exporter": "python",
   "pygments_lexer": "ipython3",
   "version": "3.12.1"
  }
 },
 "nbformat": 4,
 "nbformat_minor": 4
}
