{
 "cells": [
  {
   "cell_type": "markdown",
   "metadata": {},
   "source": [
    "# Agenda\n",
    "\n",
    "1. Basic Python fundamentals\n",
    "    - Values and variables\n",
    "    - Display values and get input from the user\n",
    "    - Assignment\n",
    "    - Comparison\n",
    "    - Conditional code\n",
    "    - Numbers (integers and floats)\n",
    "    - Strings (text)\n",
    "    - Methods (functionality we can run on an object)\n",
    "2. Loops, lists, and tuples\n",
    "    - Repeat functionality with a loop (`for` and `while`)\n",
    "    - Using lists -- how are they different from strings, and how are they the same?\n",
    "    - Tuples -- another data structure that's similar to strings and lists (\"sequence\")\n",
    "    - Tuple unpacking\n",
    "3. Dictionaries and files\n",
    "    - Creating and working with dicts\n",
    "    - Different paradigms for using dicts\n",
    "    - Read from files\n",
    "    - (A little) writing to files\n",
    "4. Functions\n",
    "    - Write functions\n",
    "    - Function bodies\n",
    "    - Arguments and parameters\n",
    "    - Return values\n",
    "5. Modules and packages\n",
    "    - How can we use modules in Python?\n",
    "    - How can write our own modules?\n",
    "    - PyPI (the Python Package Index)\n",
    "    - `pip`"
   ]
  },
  {
   "cell_type": "markdown",
   "metadata": {},
   "source": [
    "# What is a programming language? What is Python?\n",
    "\n",
    "A program is a set of instructions, telling the computer what to do. In the end, it's just a bunch of 1s and 0s. In order to write programs and keep track of them and debug them easily, we write in programming languages, which are then translated into 1s and 0s. (This process is sometimes known as interpretation and sometimes compilation.)\n",
    "\n",
    "Python is a high-level language.\n",
    "\n",
    "Python has been around for more than 30 years. It's now super super popular. Why? Python is a perfect language for an age in which people are expensive and computers are cheap. If we can increase the person's productivity in writing code, then that's worth having to pay more for computers.\n",
    "\n",
    "Python is popular in a wide variety of areas:\n",
    "- Data science and machine learning (#1)\n",
    "- Web development\n",
    "- Devops and system administration\n",
    "- Automated testing\n",
    "- Education\n",
    "\n",
    "Python is super consistent -- once you learn something in the language, you can use it forever.\n",
    "\n",
    "I sometimes call Python the Esperanto of programming languages, because it is so consistent.\n",
    "\n",
    "Jupyter gives us the illusion that we're running Python in the browser. There's a server on the back end that's actually running Python -- but it's a great illusion! I can type into it, and give you text (Markdown) or in code (Python)."
   ]
  },
  {
   "cell_type": "code",
   "execution_count": 1,
   "metadata": {},
   "outputs": [
    {
     "name": "stdout",
     "output_type": "stream",
     "text": [
      "Hello, world!\n"
     ]
    }
   ],
   "source": [
    "# if I type into a cell in Jupyter, then I can type Python code\n",
    "# this is a comment; Python ignores it completely. It's for me to leave hints/reminders to myself and other coders.\n",
    "# Just type # and go to the end of the line -- Python doesn't care what you write\n",
    "\n",
    "# print is a function, a verb in our programming language\n",
    "# print displays something on the screen\n",
    "# we need to use () to run the print function\n",
    "# whatever is inside of the () is displayed\n",
    "# note that if we want text (aka \"a string\") then it needs to be inside of '' (or \"\" if you prefer)\n",
    "\n",
    "# if I want to execute the contents of a cell, I press shift+ENTER\n",
    "print('Hello, world!')"
   ]
  },
  {
   "cell_type": "code",
   "execution_count": 2,
   "metadata": {},
   "outputs": [
    {
     "name": "stdout",
     "output_type": "stream",
     "text": [
      "5\n"
     ]
    }
   ],
   "source": [
    "# what else can I print?\n",
    "\n",
    "print(5)"
   ]
  },
  {
   "cell_type": "code",
   "execution_count": 4,
   "metadata": {},
   "outputs": [
    {
     "name": "stdout",
     "output_type": "stream",
     "text": [
      "8\n"
     ]
    }
   ],
   "source": [
    "# before print executes, and displays something on the screen,\n",
    "# whatever is inside of its parentheses needs to be \"evaluated,\" or run\n",
    "\n",
    "# in this example, first 5+3 is evaluated, we get back 8, and then print\n",
    "# only sees print(8), which it executes\n",
    "\n",
    "print(5 + 3)"
   ]
  },
  {
   "cell_type": "code",
   "execution_count": 6,
   "metadata": {},
   "outputs": [
    {
     "name": "stdout",
     "output_type": "stream",
     "text": [
      "helloworld\n"
     ]
    }
   ],
   "source": [
    "# I can use + with numbers\n",
    "# can I use + with text, also?\n",
    "\n",
    "print('hello' + 'world')    # yes, we can use + !   ... but... there isn't any space between the words"
   ]
  },
  {
   "cell_type": "markdown",
   "metadata": {},
   "source": [
    "# The most important thing to remember\n",
    "\n",
    "Computers do what you tell them to do, not what you want them to do."
   ]
  },
  {
   "cell_type": "code",
   "execution_count": 7,
   "metadata": {},
   "outputs": [
    {
     "name": "stdout",
     "output_type": "stream",
     "text": [
      "hello world\n"
     ]
    }
   ],
   "source": [
    "print('hello' + ' ' + 'world') "
   ]
  },
  {
   "cell_type": "code",
   "execution_count": 11,
   "metadata": {},
   "outputs": [
    {
     "name": "stdout",
     "output_type": "stream",
     "text": [
      "hello world\n"
     ]
    }
   ],
   "source": [
    "print('hello ' + 'world')"
   ]
  },
  {
   "cell_type": "markdown",
   "metadata": {},
   "source": [
    "# Storing our values\n",
    "\n",
    "What we saw above with text and numbers are *values*. Those are the nouns in a programming language. We're going to spend much of the next three weeks talking about different types of values, and how they work.\n",
    "\n",
    "But what if we want to store a value somewhere? Then we use a *variable*. A variable is a pronoun in a programming language, which refers to an actual value.\n",
    "\n",
    "If I want to associate a value with a variable, I need to *assign* the value to it. We do this with the `=` sign, known as the \"assignment operator.\"\n",
    "\n",
    "# VERY VERY IMPORTANT -- `=` is not the same in Python as in math!\n",
    "\n",
    "In Python, `=` means:\n",
    "- Take the value on the right\n",
    "- Assign it to the variable on the left\n",
    "- If the variable didn't yet exist, now it does!"
   ]
  },
  {
   "cell_type": "code",
   "execution_count": 8,
   "metadata": {},
   "outputs": [],
   "source": [
    "name = 'Reuven'"
   ]
  },
  {
   "cell_type": "code",
   "execution_count": 9,
   "metadata": {},
   "outputs": [
    {
     "name": "stdout",
     "output_type": "stream",
     "text": [
      "name\n"
     ]
    }
   ],
   "source": [
    "# now I can refer to 'Reuven' via the variable name!\n",
    "# note that text has quotes around it, but variables don't.\n",
    "\n",
    "print('name')   # this will display the literal word 'name'"
   ]
  },
  {
   "cell_type": "code",
   "execution_count": 10,
   "metadata": {},
   "outputs": [
    {
     "name": "stdout",
     "output_type": "stream",
     "text": [
      "Reuven\n"
     ]
    }
   ],
   "source": [
    "print(name)   # this will display the value in the variable name"
   ]
  },
  {
   "cell_type": "markdown",
   "metadata": {},
   "source": [
    "# Variable names\n",
    "\n",
    "What names can we use for variables?\n",
    "\n",
    "Any combination of letters, digits, and `_`, but:\n",
    "\n",
    "- You cannot start with a digit\n",
    "- You SHOULD NOT start or end with `_` (because they have special meaning to Python)\n",
    "- Capital and lowercase letters are different, so the variable `x` and the variable `X` have nothing to do with one another\n",
    "\n",
    "Python has some \"reserved words\" that you cannot assign to, such as `for` and `def` and `with`. Trying to assign to those will result in an error.\n",
    "\n",
    "There are also words that you shouldn't assign to, such as `print`, `len`, `sum`, and `list` and `dict`. If you see your editor (or Jupyter) change the color of the word when you have a variable name, don't use that variable!"
   ]
  },
  {
   "cell_type": "code",
   "execution_count": 12,
   "metadata": {},
   "outputs": [
    {
     "name": "stdout",
     "output_type": "stream",
     "text": [
      "Reuven\n"
     ]
    }
   ],
   "source": [
    "name = 'Reuven'    # value on the right, variable on the left\n",
    "print(name)"
   ]
  },
  {
   "cell_type": "code",
   "execution_count": 13,
   "metadata": {},
   "outputs": [
    {
     "name": "stdout",
     "output_type": "stream",
     "text": [
      "12345\n"
     ]
    }
   ],
   "source": [
    "number = 12345     # value on the right, variable on the left\n",
    "print(number)"
   ]
  },
  {
   "cell_type": "code",
   "execution_count": 14,
   "metadata": {},
   "outputs": [
    {
     "name": "stdout",
     "output_type": "stream",
     "text": [
      "7\n"
     ]
    }
   ],
   "source": [
    "number = 2+5    # value on the right is 2+5 -> 7, and that is assigned to number\n",
    "print(number)"
   ]
  },
  {
   "cell_type": "code",
   "execution_count": 15,
   "metadata": {},
   "outputs": [
    {
     "data": {
      "text/plain": [
       "7"
      ]
     },
     "execution_count": 15,
     "metadata": {},
     "output_type": "execute_result"
    }
   ],
   "source": [
    "# in Jupyter, and *ONLY* in Jupyter, there's a fancy feature that says:\n",
    "# if a value is on the final line of the cell, then executing the cell shows that value\n",
    "\n",
    "number"
   ]
  },
  {
   "cell_type": "code",
   "execution_count": 16,
   "metadata": {},
   "outputs": [
    {
     "data": {
      "text/plain": [
       "12"
      ]
     },
     "execution_count": 16,
     "metadata": {},
     "output_type": "execute_result"
    }
   ],
   "source": [
    "number + 5"
   ]
  },
  {
   "cell_type": "code",
   "execution_count": 17,
   "metadata": {},
   "outputs": [
    {
     "name": "stdout",
     "output_type": "stream",
     "text": [
      "30\n"
     ]
    }
   ],
   "source": [
    "x = 10   # assigning 10 to x\n",
    "y = 20   # assigning 20 to y\n",
    "\n",
    "print(x + y)"
   ]
  },
  {
   "cell_type": "code",
   "execution_count": 18,
   "metadata": {},
   "outputs": [
    {
     "data": {
      "text/plain": [
       "20"
      ]
     },
     "execution_count": 18,
     "metadata": {},
     "output_type": "execute_result"
    }
   ],
   "source": [
    "x = 10   # assigning the integer 10 to x\n",
    "y = '20'  # assigning the text string '20' to y\n",
    "\n",
    "x + x"
   ]
  },
  {
   "cell_type": "code",
   "execution_count": 19,
   "metadata": {},
   "outputs": [
    {
     "data": {
      "text/plain": [
       "'2020'"
      ]
     },
     "execution_count": 19,
     "metadata": {},
     "output_type": "execute_result"
    }
   ],
   "source": [
    "y + y"
   ]
  },
  {
   "cell_type": "code",
   "execution_count": 20,
   "metadata": {
    "scrolled": true
   },
   "outputs": [
    {
     "ename": "TypeError",
     "evalue": "unsupported operand type(s) for +: 'int' and 'str'",
     "output_type": "error",
     "traceback": [
      "\u001b[0;31m---------------------------------------------------------------------------\u001b[0m",
      "\u001b[0;31mTypeError\u001b[0m                                 Traceback (most recent call last)",
      "Cell \u001b[0;32mIn[20], line 2\u001b[0m\n\u001b[1;32m      1\u001b[0m \u001b[38;5;66;03m# so what will happen when I try adding x and y?\u001b[39;00m\n\u001b[0;32m----> 2\u001b[0m \u001b[43mx\u001b[49m\u001b[43m \u001b[49m\u001b[38;5;241;43m+\u001b[39;49m\u001b[43m \u001b[49m\u001b[43my\u001b[49m\n",
      "\u001b[0;31mTypeError\u001b[0m: unsupported operand type(s) for +: 'int' and 'str'"
     ]
    }
   ],
   "source": [
    "# so what will happen when I try adding x and y?\n",
    "x + y"
   ]
  },
  {
   "cell_type": "code",
   "execution_count": 21,
   "metadata": {},
   "outputs": [
    {
     "ename": "TypeError",
     "evalue": "can only concatenate str (not \"int\") to str",
     "output_type": "error",
     "traceback": [
      "\u001b[0;31m---------------------------------------------------------------------------\u001b[0m",
      "\u001b[0;31mTypeError\u001b[0m                                 Traceback (most recent call last)",
      "Cell \u001b[0;32mIn[21], line 1\u001b[0m\n\u001b[0;32m----> 1\u001b[0m \u001b[43my\u001b[49m\u001b[43m \u001b[49m\u001b[38;5;241;43m+\u001b[39;49m\u001b[43m \u001b[49m\u001b[43mx\u001b[49m\n",
      "\u001b[0;31mTypeError\u001b[0m: can only concatenate str (not \"int\") to str"
     ]
    }
   ],
   "source": [
    "y + x"
   ]
  },
  {
   "cell_type": "markdown",
   "metadata": {},
   "source": [
    "# You have to be careful about types!\n",
    "\n",
    "Different types of data cannot be mixed together willy nilly. You need to make sure that both values you're adding (or anything else) are the same type. We will talk about how to convert one type to another."
   ]
  },
  {
   "cell_type": "markdown",
   "metadata": {},
   "source": [
    "# Exercise: Simple calculator\n",
    "\n",
    "Assign two whole numbers (i.e., just digits 0-9) to two different variables. (You get to choose their names!) Add them together, and assign the result to a third variable. Print that third variable on the screen."
   ]
  },
  {
   "cell_type": "code",
   "execution_count": 22,
   "metadata": {},
   "outputs": [
    {
     "data": {
      "text/plain": [
       "57"
      ]
     },
     "execution_count": 22,
     "metadata": {},
     "output_type": "execute_result"
    }
   ],
   "source": [
    "first = 25    # assigning the integer 25 to first\n",
    "second = 32   # assigning the integer 32 t second\n",
    "\n",
    "first + second"
   ]
  },
  {
   "cell_type": "code",
   "execution_count": 23,
   "metadata": {},
   "outputs": [
    {
     "data": {
      "text/plain": [
       "'2532'"
      ]
     },
     "execution_count": 23,
     "metadata": {},
     "output_type": "execute_result"
    }
   ],
   "source": [
    "# let's try something else\n",
    "first = '25'    # assigning the text string '25' to first\n",
    "second = '32'   # assigning the text string '32' to second\n",
    "\n",
    "first + second"
   ]
  },
  {
   "cell_type": "code",
   "execution_count": 24,
   "metadata": {},
   "outputs": [
    {
     "name": "stdout",
     "output_type": "stream",
     "text": [
      "57\n"
     ]
    }
   ],
   "source": [
    "first = 25    # assigning the integer 25 to first\n",
    "second = 32   # assigning the integer 32 t second\n",
    "\n",
    "total = first + second\n",
    "\n",
    "print(total)"
   ]
  },
  {
   "cell_type": "code",
   "execution_count": 25,
   "metadata": {},
   "outputs": [
    {
     "ename": "TypeError",
     "evalue": "can only concatenate str (not \"int\") to str",
     "output_type": "error",
     "traceback": [
      "\u001b[0;31m---------------------------------------------------------------------------\u001b[0m",
      "\u001b[0;31mTypeError\u001b[0m                                 Traceback (most recent call last)",
      "Cell \u001b[0;32mIn[25], line 3\u001b[0m\n\u001b[1;32m      1\u001b[0m \u001b[38;5;66;03m# what if I want to print some text along with that number?\u001b[39;00m\n\u001b[0;32m----> 3\u001b[0m \u001b[38;5;28mprint\u001b[39m(\u001b[38;5;124;43m'\u001b[39;49m\u001b[38;5;124;43mYour total is \u001b[39;49m\u001b[38;5;124;43m'\u001b[39;49m\u001b[43m \u001b[49m\u001b[38;5;241;43m+\u001b[39;49m\u001b[43m \u001b[49m\u001b[43mtotal\u001b[49m)\n",
      "\u001b[0;31mTypeError\u001b[0m: can only concatenate str (not \"int\") to str"
     ]
    }
   ],
   "source": [
    "# what if I want to print some text along with that number?\n",
    "\n",
    "print('Your total is ' + total)"
   ]
  },
  {
   "cell_type": "code",
   "execution_count": 28,
   "metadata": {},
   "outputs": [
    {
     "name": "stdout",
     "output_type": "stream",
     "text": [
      "25 + 32 = 57\n"
     ]
    }
   ],
   "source": [
    "# however, we can use a special kind of text string called an f-string\n",
    "# (that's short for format string or fancy string)\n",
    "\n",
    "# you put an f before the opening '\n",
    "# inside of the f-string, you can put {} with any Python expression inside\n",
    "# that will be turned into a text string!\n",
    "\n",
    "print(f'{first} + {second} = {total}')    # value of first, value of second, value of total are *INTERPOLATED* into the string"
   ]
  },
  {
   "cell_type": "code",
   "execution_count": 31,
   "metadata": {},
   "outputs": [
    {
     "name": "stdout",
     "output_type": "stream",
     "text": [
      "Hello, strange!\n"
     ]
    }
   ],
   "source": [
    "name = 'strange'\n",
    "\n",
    "print(f'Hello, {name}!')   # this f-string's value depends on the value of the variable name"
   ]
  },
  {
   "cell_type": "markdown",
   "metadata": {},
   "source": [
    "# What does an f-string do?\n",
    "\n",
    "In a standard, traditional string, what we type is (basically) what we get. \n",
    "\n",
    "What we want, though, is a string in which there's some *dynamic* content. That is, some part of it will change its value based on what a variable contains. \n",
    "\n",
    "- If your string won't ever change, then don't use an f-string. (You lose nothing!)\n",
    "- If your string contains values from variables, then an f-string is a godsend.\n",
    "- The types of values you put in an f-string don't matter, because they're all converted into text strings behind the scenes.\n"
   ]
  },
  {
   "cell_type": "code",
   "execution_count": 32,
   "metadata": {},
   "outputs": [
    {
     "name": "stdout",
     "output_type": "stream",
     "text": [
      "10 + 20 + 30 = 60\n"
     ]
    }
   ],
   "source": [
    "# Think of the {} as a tiny Python program\n",
    "\n",
    "x = 10\n",
    "y = 20\n",
    "z = 30\n",
    "\n",
    "print(f'{x} + {y} + {z} = {x+y+z}')  # inside of {} we can have any expression, not just a variable"
   ]
  },
  {
   "cell_type": "code",
   "execution_count": 34,
   "metadata": {},
   "outputs": [
    {
     "name": "stdin",
     "output_type": "stream",
     "text": [
      "Enter your name:  someone else\n"
     ]
    },
    {
     "name": "stdout",
     "output_type": "stream",
     "text": [
      "Hello, someone else!\n"
     ]
    }
   ],
   "source": [
    "# what if I want to get input from the user, and not hard-code it in my program?\n",
    "\n",
    "# I can use the \"input\" function, which pauses the program and asks the user to enter something\n",
    "# whatever the user entered is \"returned\" by that function, and can be assigned to a variable\n",
    "\n",
    "# here's the typical look of input:\n",
    "\n",
    "# when we assign, the right side runs before the left side\n",
    "# the right side asks the user to enter their name\n",
    "# whatever the user types is returned as a string (the right side will contain a string)\n",
    "# that string is assigned to the variable name\n",
    "\n",
    "name = input('Enter your name: ')\n",
    "print(f'Hello, {name}!')"
   ]
  },
  {
   "cell_type": "markdown",
   "metadata": {},
   "source": [
    "# Exercise: User input\n",
    "\n",
    "1. Ask the user to enter their name, and assign that to a variable `name`.\n",
    "2. Ask the user to enter their city, and assign that to a variable `city`.\n",
    "3. Print output to the user, greeting them from their city.\n",
    "\n",
    "Example:\n",
    "\n",
    "    Enter your name: Reuven\n",
    "    Enter your city: Modi'in\n",
    "    Hello Reuven from Modi'in!"
   ]
  },
  {
   "cell_type": "code",
   "execution_count": 35,
   "metadata": {
    "scrolled": true
   },
   "outputs": [
    {
     "name": "stdin",
     "output_type": "stream",
     "text": [
      "Enter your name:  Reuven\n",
      "Enter your city:  Modi'in\n"
     ]
    },
    {
     "name": "stdout",
     "output_type": "stream",
     "text": [
      "Hello, Reuven from Modi'in!\n"
     ]
    }
   ],
   "source": [
    "name = input('Enter your name: ')\n",
    "city = input('Enter your city: ')\n",
    "\n",
    "print(f'Hello, {name} from {city}!')"
   ]
  },
  {
   "cell_type": "code",
   "execution_count": 36,
   "metadata": {
    "scrolled": true
   },
   "outputs": [
    {
     "name": "stdin",
     "output_type": "stream",
     "text": [
      "Enter your name:  Reuven\n",
      "Enter your city:  Modi'in\n"
     ]
    },
    {
     "name": "stdout",
     "output_type": "stream",
     "text": [
      "Hello, Reuven, from, Modi'in!\n"
     ]
    }
   ],
   "source": [
    "name = input('Enter your name: ')\n",
    "city = input('Enter your city: ')\n",
    "\n",
    "print(f'Hello, {name}, from, {city}!')"
   ]
  },
  {
   "cell_type": "code",
   "execution_count": 37,
   "metadata": {},
   "outputs": [
    {
     "ename": "SyntaxError",
     "evalue": "unterminated string literal (detected at line 4) (3214737825.py, line 4)",
     "output_type": "error",
     "traceback": [
      "\u001b[0;36m  Cell \u001b[0;32mIn[37], line 4\u001b[0;36m\u001b[0m\n\u001b[0;31m    print(f'{name}'s city is {city}!')\u001b[0m\n\u001b[0m                                    ^\u001b[0m\n\u001b[0;31mSyntaxError\u001b[0m\u001b[0;31m:\u001b[0m unterminated string literal (detected at line 4)\n"
     ]
    }
   ],
   "source": [
    "name = input('Enter your name: ')\n",
    "city = input('Enter your city: ')\n",
    "\n",
    "print(f'{name}\\'s city is {city}!')   # inside of a '' string, you can use \\' to mean: give me a literal ', not the end of the string"
   ]
  },
  {
   "cell_type": "markdown",
   "metadata": {},
   "source": [
    "# Next up\n",
    "\n",
    "- Comparing values\n",
    "- Conditional execution"
   ]
  },
  {
   "cell_type": "markdown",
   "metadata": {},
   "source": [
    "# Conditions\n",
    "\n",
    "We've seen that we can use `+` on values to add them together (numbers or text strings). But there are many operators, too. One of them is `==`, which is the *equality operator*. It tells us if two things are the same.\n",
    "\n",
    "## `=` and `==` are *VERY* different!\n",
    "\n",
    "- `=`, as we saw before, is the assignment operator. It takes the value on the right and assigns to the variable on the left.\n",
    "- `==` has a completely different role; it returns either `True` or `False`, depending on if the values on its left and right are the same."
   ]
  },
  {
   "cell_type": "code",
   "execution_count": 38,
   "metadata": {},
   "outputs": [
    {
     "data": {
      "text/plain": [
       "False"
      ]
     },
     "execution_count": 38,
     "metadata": {},
     "output_type": "execute_result"
    }
   ],
   "source": [
    "10 == 20   # what will this return"
   ]
  },
  {
   "cell_type": "code",
   "execution_count": 39,
   "metadata": {},
   "outputs": [
    {
     "data": {
      "text/plain": [
       "True"
      ]
     },
     "execution_count": 39,
     "metadata": {},
     "output_type": "execute_result"
    }
   ],
   "source": [
    "10 == 10"
   ]
  },
  {
   "cell_type": "code",
   "execution_count": 40,
   "metadata": {},
   "outputs": [
    {
     "data": {
      "text/plain": [
       "False"
      ]
     },
     "execution_count": 40,
     "metadata": {},
     "output_type": "execute_result"
    }
   ],
   "source": [
    "10 == '10'  "
   ]
  },
  {
   "cell_type": "code",
   "execution_count": 41,
   "metadata": {},
   "outputs": [
    {
     "data": {
      "text/plain": [
       "True"
      ]
     },
     "execution_count": 41,
     "metadata": {},
     "output_type": "execute_result"
    }
   ],
   "source": [
    "'abcd' == 'abcd'  "
   ]
  },
  {
   "cell_type": "code",
   "execution_count": 42,
   "metadata": {},
   "outputs": [
    {
     "data": {
      "text/plain": [
       "False"
      ]
     },
     "execution_count": 42,
     "metadata": {},
     "output_type": "execute_result"
    }
   ],
   "source": [
    "'abcd' == ' abcd'"
   ]
  },
  {
   "cell_type": "code",
   "execution_count": 43,
   "metadata": {},
   "outputs": [
    {
     "data": {
      "text/plain": [
       "False"
      ]
     },
     "execution_count": 43,
     "metadata": {},
     "output_type": "execute_result"
    }
   ],
   "source": [
    "'abcd' == 'Abcd'"
   ]
  },
  {
   "cell_type": "markdown",
   "metadata": {},
   "source": [
    "# Comparison operators\n",
    "\n",
    "We can compare two values in a number of ways:\n",
    "\n",
    "- `==` -- are they the same?\n",
    "- `!=` -- are they *not* the same?\n",
    "- `<` -- is the value on the left less than the value on the right?\n",
    "- `<=` -- is the value on the left less than or equal to the value on the right?\n",
    "- `>` -- is the value on the left greater than the value on the right?\n",
    "- `>=` -- is the value on the left greater than or equal to the value on the right?\n",
    " "
   ]
  },
  {
   "cell_type": "markdown",
   "metadata": {},
   "source": [
    "# Conditionals \n",
    "\n",
    "So far, when we've had code in our program, it always ran. Conditionals allow us to say, \"This code should only run sometimes, under the following conditions.\"\n",
    "\n",
    "The way we do this is with the `if` statement.\n",
    "\n",
    "1. `if` looks to its right, and checks if there is a `True` or `False` value. Very often, we're going to have a comparison there, often (but not always) with `==`.\n",
    "2. At the end of that line, there must be a `:`.\n",
    "3. Starting on the following line, we have a \"block\" of code. How does Python know where the block starts? Right after the colon. How does it know when it ends? When the indentation ends. There is no `end` or `}` or other syntax in Python to indicate the end of a block; it's just indentation.\n",
    "4. A block must contain at least one line. Whatever is in the `if` block runs if the condition for `if` was `True`.\n",
    "5. If the condition for the `if` was `False`, and if there's an `else` clause, then the `else` block runs.\n",
    "6. `else` does *not* have a condition! It runs if the previous clause was `False`.\n",
    "7. `else` has a `:` at the end of the line, and its own block, which can be any length.\n",
    "8. If you don't have an `else` clause, then `if` might or might run.\n",
    "9. If you *do* have an `else` clause, then either `if` or `else` will run -- one of them is guaranteed to run; not zero and not both of them."
   ]
  },
  {
   "cell_type": "code",
   "execution_count": 45,
   "metadata": {},
   "outputs": [
    {
     "name": "stdin",
     "output_type": "stream",
     "text": [
      "Enter your name:  whoever\n"
     ]
    },
    {
     "name": "stdout",
     "output_type": "stream",
     "text": [
      "Who are you, whoever?\n"
     ]
    }
   ],
   "source": [
    "name = input('Enter your name: ')\n",
    "\n",
    "if name == 'Reuven':\n",
    "    print('Hello, boss!')\n",
    "    print('It is great to see you again!')\n",
    "else:\n",
    "    print(f'Who are you, {name}?')"
   ]
  },
  {
   "cell_type": "markdown",
   "metadata": {},
   "source": [
    "# Exercise: Which word comes first?\n",
    "\n",
    "1. Ask the user to enter a word, and assign it to a variable.\n",
    "2. Ask the user to enter a second word, and assign it to another variable.\n",
    "3. If the first word comes before the second one alphabetically, say so.\n",
    "4. If the second word comes before the first one alphabetically, say so.\n",
    "\n",
    "Some things to keep in mind:\n",
    "- Yes, you can use `<` and `>` on text strings! \"Less\" in this case means \"comes earlier alphabetically.\"\n",
    "- Assume the user entered two different words.\n",
    "- Also assume that the words contain only lowercase letters (no digits, symbols, spaces, etc.)"
   ]
  },
  {
   "cell_type": "code",
   "execution_count": null,
   "metadata": {},
   "outputs": [],
   "source": []
  }
 ],
 "metadata": {
  "kernelspec": {
   "display_name": "Python 3 (ipykernel)",
   "language": "python",
   "name": "python3"
  },
  "language_info": {
   "codemirror_mode": {
    "name": "ipython",
    "version": 3
   },
   "file_extension": ".py",
   "mimetype": "text/x-python",
   "name": "python",
   "nbconvert_exporter": "python",
   "pygments_lexer": "ipython3",
   "version": "3.12.1"
  }
 },
 "nbformat": 4,
 "nbformat_minor": 4
}
